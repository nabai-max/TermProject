{
 "cells": [
  {
   "cell_type": "code",
   "execution_count": 1,
   "metadata": {},
   "outputs": [],
   "source": [
    "from pyspark import SparkContext, SparkConf, SQLContext\n",
    "from pyspark.sql import SparkSession, Row\n",
    "import pandas as pd\n"
   ]
  },
  {
   "cell_type": "code",
   "execution_count": 2,
   "metadata": {},
   "outputs": [],
   "source": [
    "spark = SparkSession.builder.appName(\"rdd-app\").config(\"spark.config.option\", \"value\").getOrCreate()\n",
    "scfg = SparkConf().setAppName('rdd-app')\n",
    "sc = spark.sparkContext"
   ]
  },
  {
   "cell_type": "code",
   "execution_count": 3,
   "metadata": {},
   "outputs": [],
   "source": [
    "import string\n",
    "\n",
    "text_file = '/user/student/shakespeare/tragedy/hamlet.txt'\n",
    "text = sc.textFile(text_file)"
   ]
  },
  {
   "cell_type": "code",
   "execution_count": 4,
   "metadata": {},
   "outputs": [],
   "source": [
    "def strip_punc(s):\n",
    "    return s.translate(str.maketrans('', '', string.punctuation)).split(' ')\n",
    "\n",
    "def search_word_in_line(word):\n",
    "    count = 1\n",
    "    for line in text.collect():\n",
    "        if word in strip_punc(line):\n",
    "            print('{}. {}'.format(count, line))\n",
    "        count += 1"
   ]
  },
  {
   "cell_type": "code",
   "execution_count": 5,
   "metadata": {},
   "outputs": [],
   "source": [
    "flatmap = text.flatMap(lambda line: line.translate(str.maketrans('', '', string.punctuation)).split(' '))\n",
    "map = flatmap.map(lambda word: (word, 1))\n",
    "reduced = map.reduceByKey(lambda a, b: a + b)"
   ]
  },
  {
   "cell_type": "code",
   "execution_count": 6,
   "metadata": {},
   "outputs": [],
   "source": [
    "counts = text.flatMap(lambda line: line.translate(str.maketrans('', '', string.punctuation)).split(' '))\\\n",
    "             .map(lambda word: (word, 1))\\\n",
    "             .reduceByKey(lambda a, b: a + b)    "
   ]
  },
  {
   "cell_type": "code",
   "execution_count": 7,
   "metadata": {},
   "outputs": [
    {
     "name": "stdout",
     "output_type": "stream",
     "text": [
      "Found 'purpose' occurs '11' times\n",
      "2599.     Why, any thing, but to the purpose. You were sent\n",
      "2926.     Black as his purpose, did the night resemble\n",
      "3216.     And drive his purpose on to these delights.\n",
      "3540.     from the purpose of playing, whose end, both at the\n",
      "3909.     The passion ending, doth the purpose lose.\n",
      "4766.     Is but to whet thy almost blunted purpose.\n",
      "6202.     And, for that purpose, I'll anoint my sword.\n",
      "6227.     Our purpose may hold there.\n",
      "6378.     purpose, confess thyself--\n",
      "7328.     king hold his purpose, I will win for him an I can;\n",
      "7376.     I am constant to my purpose; they follow the king's\n"
     ]
    }
   ],
   "source": [
    "word = \"purpose\"\n",
    "for count in reduced.collect():\n",
    "    # kv = str(count).translate(str.maketrans('', '', string.punctuation)).split(' ')\n",
    "    kv = strip_punc(str(count))\n",
    "    if word == kv[0]:\n",
    "        print('Found \\'{}\\' occurs \\'{}\\' times'.format(kv[0], kv[1])) \n",
    "        search_word_in_line(word)\n",
    "        break"
   ]
  },
  {
   "cell_type": "markdown",
   "metadata": {},
   "source": [
    "## Manipulating airline performance data"
   ]
  },
  {
   "cell_type": "code",
   "execution_count": 8,
   "metadata": {},
   "outputs": [],
   "source": [
    "\n",
    "from pyspark.sql.types import Row\n",
    "from datetime import datetime\n"
   ]
  },
  {
   "cell_type": "code",
   "execution_count": 9,
   "metadata": {},
   "outputs": [],
   "source": [
    "data_by_year = '/user/student/airline/2002.csv'\n",
    "airline_performance = spark.read.option(\"header\", \"true\").csv(data_by_year)"
   ]
  },
  {
   "cell_type": "code",
   "execution_count": 10,
   "metadata": {},
   "outputs": [
    {
     "data": {
      "text/plain": [
       "Row(Year='2002', Month='1', DayofMonth='13', DayOfWeek='7', DepTime='2231', CRSDepTime='2235', ArrTime='2342', CRSArrTime='2353', UniqueCarrier='US', FlightNum='723', TailNum='N709��', ActualElapsedTime='71', CRSElapsedTime='78', AirTime='55', ArrDelay='-11', DepDelay='-4', Origin='PIT', Dest='CLT', Distance='366', TaxiIn='3', TaxiOut='13', Cancelled='0', CancellationCode='NA', Diverted='0', CarrierDelay='NA', WeatherDelay='NA', NASDelay='NA', SecurityDelay='NA', LateAircraftDelay='NA')"
      ]
     },
     "execution_count": 10,
     "metadata": {},
     "output_type": "execute_result"
    }
   ],
   "source": [
    "airline_performance.head()"
   ]
  },
  {
   "cell_type": "code",
   "execution_count": 11,
   "metadata": {},
   "outputs": [
    {
     "data": {
      "text/plain": [
       "DataFrame[Year: string, Month: string, DayofMonth: string, DayOfWeek: string, DepTime: string, CRSDepTime: string, ArrTime: string, CRSArrTime: string, UniqueCarrier: string, FlightNum: string, TailNum: string, ActualElapsedTime: string, CRSElapsedTime: string, AirTime: string, ArrDelay: string, DepDelay: string, Origin: string, Dest: string, Distance: string, TaxiIn: string, TaxiOut: string, Cancelled: string, CancellationCode: string, Diverted: string, CarrierDelay: string, WeatherDelay: string, NASDelay: string, SecurityDelay: string, LateAircraftDelay: string]"
      ]
     },
     "execution_count": 11,
     "metadata": {},
     "output_type": "execute_result"
    }
   ],
   "source": [
    "airline_performance"
   ]
  },
  {
   "cell_type": "code",
   "execution_count": 12,
   "metadata": {},
   "outputs": [],
   "source": [
    "from pyspark.sql.types import IntegerType\n",
    "airline_performance = airline_performance.withColumn(\"ArrDelay\", airline_performance[\"ArrDelay\"].cast(IntegerType()))\n",
    "airline_performance = airline_performance.withColumn(\"DepDelay\", airline_performance[\"DepDelay\"].cast(IntegerType()))"
   ]
  },
  {
   "cell_type": "code",
   "execution_count": 13,
   "metadata": {},
   "outputs": [
    {
     "name": "stdout",
     "output_type": "stream",
     "text": [
      "+-------+------------------+\n",
      "|summary|          ArrDelay|\n",
      "+-------+------------------+\n",
      "|  count|           5197860|\n",
      "|   mean| 3.191243511752914|\n",
      "| stddev|29.479317265839487|\n",
      "|    min|              -987|\n",
      "|    max|              2137|\n",
      "+-------+------------------+\n",
      "\n",
      "+-------+------------------+\n",
      "|summary|          DepDelay|\n",
      "+-------+------------------+\n",
      "|  count|           5206216|\n",
      "|   mean| 5.532276225189274|\n",
      "| stddev|26.099045759971386|\n",
      "|    min|             -1370|\n",
      "|    max|              2119|\n",
      "+-------+------------------+\n",
      "\n"
     ]
    }
   ],
   "source": [
    "airline_performance.describe(['ArrDelay']).show()\n",
    "airline_performance.describe(['DepDelay']).show()"
   ]
  },
  {
   "cell_type": "code",
   "execution_count": 14,
   "metadata": {
    "scrolled": true
   },
   "outputs": [
    {
     "name": "stdout",
     "output_type": "stream",
     "text": [
      "+----+------------------------------------------+\n",
      "|Dest|CASE WHEN (ArrDelay > 0) THEN 1 ELSE 0 END|\n",
      "+----+------------------------------------------+\n",
      "| CLT|                                         0|\n",
      "| CLT|                                         0|\n",
      "| CLT|                                         0|\n",
      "| CLT|                                         0|\n",
      "| CLT|                                         0|\n",
      "| CLT|                                         0|\n",
      "| CLT|                                         0|\n",
      "| CLT|                                         0|\n",
      "| CLT|                                         0|\n",
      "| CLT|                                         0|\n",
      "| CLT|                                         0|\n",
      "| CLT|                                         0|\n",
      "| CLT|                                         0|\n",
      "| CLT|                                         0|\n",
      "| CLT|                                         0|\n",
      "| CLT|                                         0|\n",
      "| CLT|                                         0|\n",
      "| CLT|                                         0|\n",
      "| CLT|                                         0|\n",
      "| CLE|                                         0|\n",
      "+----+------------------------------------------+\n",
      "only showing top 20 rows\n",
      "\n"
     ]
    }
   ],
   "source": [
    "import pyspark.sql.functions as F\n",
    "airline_performance.select(airline_performance.Dest,F.when(airline_performance.ArrDelay > 0, 1).otherwise(0)).show()"
   ]
  },
  {
   "cell_type": "code",
   "execution_count": 15,
   "metadata": {},
   "outputs": [
    {
     "name": "stdout",
     "output_type": "stream",
     "text": [
      "+----+-----+----------+---------+-------+----------+-------+----------+-------------+---------+-------+-----------------+--------------+-------+--------+--------+------+----+--------+------+-------+---------+----------------+--------+------------+------------+--------+-------------+-----------------+-------------+-------------+\n",
      "|Year|Month|DayofMonth|DayOfWeek|DepTime|CRSDepTime|ArrTime|CRSArrTime|UniqueCarrier|FlightNum|TailNum|ActualElapsedTime|CRSElapsedTime|AirTime|ArrDelay|DepDelay|Origin|Dest|Distance|TaxiIn|TaxiOut|Cancelled|CancellationCode|Diverted|CarrierDelay|WeatherDelay|NASDelay|SecurityDelay|LateAircraftDelay|ArrDelayCount|DepDelayCount|\n",
      "+----+-----+----------+---------+-------+----------+-------+----------+-------------+---------+-------+-----------------+--------------+-------+--------+--------+------+----+--------+------+-------+---------+----------------+--------+------------+------------+--------+-------------+-----------------+-------------+-------------+\n",
      "|2002|    1|        13|        7|   2231|      2235|   2342|      2353|           US|      723| N709��|               71|            78|     55|     -11|      -4|   PIT| CLT|     366|     3|     13|        0|              NA|       0|          NA|          NA|      NA|           NA|               NA|            0|            0|\n",
      "|2002|    1|        14|        1|   2230|      2235|   2347|      2353|           US|      723| N733��|               77|            78|     60|      -6|      -5|   PIT| CLT|     366|     3|     14|        0|              NA|       0|          NA|          NA|      NA|           NA|               NA|            0|            0|\n",
      "+----+-----+----------+---------+-------+----------+-------+----------+-------------+---------+-------+-----------------+--------------+-------+--------+--------+------+----+--------+------+-------+---------+----------------+--------+------------+------------+--------+-------------+-----------------+-------------+-------------+\n",
      "only showing top 2 rows\n",
      "\n"
     ]
    }
   ],
   "source": [
    "airline_performance = airline_performance.withColumn('ArrDelayCount',F.when(airline_performance.ArrDelay > 0, 1).otherwise(0))\n",
    "airline_performance = airline_performance.withColumn('DepDelayCount',F.when(airline_performance.DepDelay > 0, 1).otherwise(0))\n",
    "airline_performance.show(2)"
   ]
  },
  {
   "cell_type": "code",
   "execution_count": 16,
   "metadata": {},
   "outputs": [
    {
     "name": "stdout",
     "output_type": "stream",
     "text": [
      "+----+------+------+\n",
      "|Year|Origin| count|\n",
      "+----+------+------+\n",
      "|2002|   ATL|116323|\n",
      "+----+------+------+\n",
      "only showing top 1 row\n",
      "\n"
     ]
    }
   ],
   "source": [
    "#Most Depature Delay Airport 2002\n",
    "airline_performance\\\n",
    ".filter(F.col('DepDelayCount') == 1)\\\n",
    ".groupBy('Year','Origin')\\\n",
    ".count()\\\n",
    ".orderBy('count',ascending=False)\\\n",
    ".show(1)"
   ]
  },
  {
   "cell_type": "code",
   "execution_count": 17,
   "metadata": {},
   "outputs": [
    {
     "name": "stdout",
     "output_type": "stream",
     "text": [
      "+----+------+-----+\n",
      "|Year|Origin|count|\n",
      "+----+------+-----+\n",
      "|2002|   ERI|    5|\n",
      "+----+------+-----+\n",
      "only showing top 1 row\n",
      "\n"
     ]
    }
   ],
   "source": [
    "#Least Depature Delay Airport 2002\n",
    "airline_performance\\\n",
    ".filter(F.col('DepDelayCount') == 1)\\\n",
    ".groupBy('Year','Origin')\\\n",
    ".count()\\\n",
    ".orderBy('count',ascending=True)\\\n",
    ".show(1)"
   ]
  },
  {
   "cell_type": "code",
   "execution_count": 18,
   "metadata": {
    "scrolled": true
   },
   "outputs": [
    {
     "name": "stdout",
     "output_type": "stream",
     "text": [
      "+----+----+------+\n",
      "|Year|Dest| count|\n",
      "+----+----+------+\n",
      "|2002| ORD|115841|\n",
      "+----+----+------+\n",
      "only showing top 1 row\n",
      "\n"
     ]
    }
   ],
   "source": [
    "#Most Arrival Delay Airport 2002\n",
    "airline_performance\\\n",
    ".filter(F.col('ArrDelayCount') == 1)\\\n",
    ".groupBy('Year','Dest')\\\n",
    ".count()\\\n",
    ".orderBy('count',ascending=False)\\\n",
    ".show(1)"
   ]
  },
  {
   "cell_type": "code",
   "execution_count": 19,
   "metadata": {},
   "outputs": [
    {
     "name": "stdout",
     "output_type": "stream",
     "text": [
      "+----+----+-----+\n",
      "|Year|Dest|count|\n",
      "+----+----+-----+\n",
      "|2002| ERI|    4|\n",
      "+----+----+-----+\n",
      "only showing top 1 row\n",
      "\n"
     ]
    }
   ],
   "source": [
    "#least Arrival Delay Airport 2002\n",
    "airline_performance\\\n",
    ".filter(F.col('ArrDelayCount') == 1)\\\n",
    ".groupBy('Year','Dest')\\\n",
    ".count()\\\n",
    ".orderBy('count',ascending=True)\\\n",
    ".show(1)"
   ]
  },
  {
   "cell_type": "code",
   "execution_count": 20,
   "metadata": {},
   "outputs": [
    {
     "name": "stdout",
     "output_type": "stream",
     "text": [
      "+----+-------------+---------+-----+\n",
      "|Year|UniqueCarrier|FlightNum|count|\n",
      "+----+-------------+---------+-----+\n",
      "|2002|           WN|     2233| 1013|\n",
      "+----+-------------+---------+-----+\n",
      "only showing top 1 row\n",
      "\n"
     ]
    }
   ],
   "source": [
    "#Most Arrival Delay Flight 2002\n",
    "airline_performance\\\n",
    ".filter(F.col('ArrDelayCount') == 1)\\\n",
    ".groupBy('Year','UniqueCarrier','FlightNum')\\\n",
    ".count()\\\n",
    ".orderBy('count',ascending=False)\\\n",
    ".show(1)"
   ]
  },
  {
   "cell_type": "code",
   "execution_count": 21,
   "metadata": {},
   "outputs": [
    {
     "name": "stdout",
     "output_type": "stream",
     "text": [
      "+----+-------------+---------+-----+\n",
      "|Year|UniqueCarrier|FlightNum|count|\n",
      "+----+-------------+---------+-----+\n",
      "|2002|           WN|     2512|    1|\n",
      "+----+-------------+---------+-----+\n",
      "only showing top 1 row\n",
      "\n"
     ]
    }
   ],
   "source": [
    "#Least Arrival Delay Flight 2002\n",
    "airline_performance\\\n",
    ".filter(F.col('ArrDelayCount') == 1)\\\n",
    ".groupBy('Year','UniqueCarrier','FlightNum')\\\n",
    ".count()\\\n",
    ".orderBy('count',ascending=True)\\\n",
    ".show(1)"
   ]
  },
  {
   "cell_type": "code",
   "execution_count": 22,
   "metadata": {
    "scrolled": true
   },
   "outputs": [
    {
     "name": "stdout",
     "output_type": "stream",
     "text": [
      "+----+-------------+---------+-----+\n",
      "|Year|UniqueCarrier|FlightNum|count|\n",
      "+----+-------------+---------+-----+\n",
      "|2002|           WN|     1702|  928|\n",
      "+----+-------------+---------+-----+\n",
      "only showing top 1 row\n",
      "\n"
     ]
    }
   ],
   "source": [
    "#Most Departure Delay Flight 2002\n",
    "airline_performance\\\n",
    ".filter(F.col('DepDelayCount') == 1)\\\n",
    ".groupBy('Year','UniqueCarrier','FlightNum')\\\n",
    ".count()\\\n",
    ".orderBy('count',ascending=False)\\\n",
    ".show(1)"
   ]
  },
  {
   "cell_type": "code",
   "execution_count": 23,
   "metadata": {},
   "outputs": [
    {
     "name": "stdout",
     "output_type": "stream",
     "text": [
      "+----+-------------+---------+-----+\n",
      "|Year|UniqueCarrier|FlightNum|count|\n",
      "+----+-------------+---------+-----+\n",
      "|2002|           US|     1845|    1|\n",
      "+----+-------------+---------+-----+\n",
      "only showing top 1 row\n",
      "\n"
     ]
    }
   ],
   "source": [
    "#Least Departure Delay Flight 2002\n",
    "airline_performance\\\n",
    ".filter(F.col('DepDelayCount') == 1)\\\n",
    ".groupBy('Year','UniqueCarrier','FlightNum')\\\n",
    ".count()\\\n",
    ".orderBy('count',ascending=True)\\\n",
    ".show(1)"
   ]
  },
  {
   "cell_type": "code",
   "execution_count": 24,
   "metadata": {},
   "outputs": [
    {
     "name": "stdout",
     "output_type": "stream",
     "text": [
      "+----+-------------+------------------+\n",
      "|Year|UniqueCarrier|     avg(ArrDelay)|\n",
      "+----+-------------+------------------+\n",
      "|2002|           WN| 3.890699404053452|\n",
      "|2002|           DL| 5.712299163508456|\n",
      "|2002|           US|1.4699437440761107|\n",
      "|2002|           AS| 5.404059028695579|\n",
      "|2002|           UA|2.4330837498304536|\n",
      "|2002|           CO|2.2972342892478936|\n",
      "|2002|           NW|3.5336313012895664|\n",
      "|2002|           MQ| 4.214754405699288|\n",
      "|2002|           AA| 1.182908445915422|\n",
      "|2002|           HP| 2.478977337198147|\n",
      "+----+-------------+------------------+\n",
      "\n"
     ]
    }
   ],
   "source": [
    "airline_performance\\\n",
    ".groupBy('Year','UniqueCarrier')\\\n",
    ".agg(F.mean('ArrDelay'))\\\n",
    ".show()"
   ]
  },
  {
   "cell_type": "code",
   "execution_count": 25,
   "metadata": {
    "scrolled": true
   },
   "outputs": [
    {
     "name": "stdout",
     "output_type": "stream",
     "text": [
      "+----+-------------+------------------+\n",
      "|Year|UniqueCarrier|     avg(DepDelay)|\n",
      "+----+-------------+------------------+\n",
      "|2002|           WN|  8.92502960886713|\n",
      "|2002|           DL|5.5655362269371285|\n",
      "|2002|           US| 3.676496743288962|\n",
      "|2002|           AS|  7.35249066762614|\n",
      "|2002|           UA| 4.664783588934704|\n",
      "|2002|           CO|2.5368067195762296|\n",
      "|2002|           NW|  4.82061634414722|\n",
      "|2002|           MQ| 5.546236367849778|\n",
      "|2002|           AA| 4.473949298662345|\n",
      "|2002|           HP| 6.269212934339063|\n",
      "+----+-------------+------------------+\n",
      "\n"
     ]
    }
   ],
   "source": [
    "airline_performance\\\n",
    ".groupBy('Year','UniqueCarrier')\\\n",
    ".agg(F.mean('DepDelay'))\\\n",
    ".show()"
   ]
  },
  {
   "cell_type": "code",
   "execution_count": null,
   "metadata": {},
   "outputs": [],
   "source": []
  }
 ],
 "metadata": {
  "kernelspec": {
   "display_name": "Python 3",
   "language": "python",
   "name": "python3"
  },
  "language_info": {
   "codemirror_mode": {
    "name": "ipython",
    "version": 3
   },
   "file_extension": ".py",
   "mimetype": "text/x-python",
   "name": "python",
   "nbconvert_exporter": "python",
   "pygments_lexer": "ipython3",
   "version": "3.6.9"
  }
 },
 "nbformat": 4,
 "nbformat_minor": 2
}
