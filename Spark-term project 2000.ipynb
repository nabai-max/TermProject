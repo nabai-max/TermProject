{
 "cells": [
  {
   "cell_type": "code",
   "execution_count": 1,
   "metadata": {},
   "outputs": [],
   "source": [
    "from pyspark import SparkContext, SparkConf, SQLContext\n",
    "from pyspark.sql import SparkSession, Row\n",
    "import pandas as pd\n"
   ]
  },
  {
   "cell_type": "code",
   "execution_count": 2,
   "metadata": {},
   "outputs": [],
   "source": [
    "spark = SparkSession.builder.appName(\"rdd-app\").config(\"spark.config.option\", \"value\").getOrCreate()\n",
    "scfg = SparkConf().setAppName('rdd-app')\n",
    "sc = spark.sparkContext"
   ]
  },
  {
   "cell_type": "code",
   "execution_count": 3,
   "metadata": {},
   "outputs": [],
   "source": [
    "import string\n",
    "\n",
    "text_file = '/user/student/shakespeare/tragedy/hamlet.txt'\n",
    "text = sc.textFile(text_file)"
   ]
  },
  {
   "cell_type": "code",
   "execution_count": 4,
   "metadata": {},
   "outputs": [],
   "source": [
    "def strip_punc(s):\n",
    "    return s.translate(str.maketrans('', '', string.punctuation)).split(' ')\n",
    "\n",
    "def search_word_in_line(word):\n",
    "    count = 1\n",
    "    for line in text.collect():\n",
    "        if word in strip_punc(line):\n",
    "            print('{}. {}'.format(count, line))\n",
    "        count += 1"
   ]
  },
  {
   "cell_type": "code",
   "execution_count": 5,
   "metadata": {},
   "outputs": [],
   "source": [
    "flatmap = text.flatMap(lambda line: line.translate(str.maketrans('', '', string.punctuation)).split(' '))\n",
    "map = flatmap.map(lambda word: (word, 1))\n",
    "reduced = map.reduceByKey(lambda a, b: a + b)"
   ]
  },
  {
   "cell_type": "code",
   "execution_count": 6,
   "metadata": {},
   "outputs": [],
   "source": [
    "counts = text.flatMap(lambda line: line.translate(str.maketrans('', '', string.punctuation)).split(' '))\\\n",
    "             .map(lambda word: (word, 1))\\\n",
    "             .reduceByKey(lambda a, b: a + b)    "
   ]
  },
  {
   "cell_type": "code",
   "execution_count": 7,
   "metadata": {},
   "outputs": [
    {
     "name": "stdout",
     "output_type": "stream",
     "text": [
      "Found 'purpose' occurs '11' times\n",
      "2599.     Why, any thing, but to the purpose. You were sent\n",
      "2926.     Black as his purpose, did the night resemble\n",
      "3216.     And drive his purpose on to these delights.\n",
      "3540.     from the purpose of playing, whose end, both at the\n",
      "3909.     The passion ending, doth the purpose lose.\n",
      "4766.     Is but to whet thy almost blunted purpose.\n",
      "6202.     And, for that purpose, I'll anoint my sword.\n",
      "6227.     Our purpose may hold there.\n",
      "6378.     purpose, confess thyself--\n",
      "7328.     king hold his purpose, I will win for him an I can;\n",
      "7376.     I am constant to my purpose; they follow the king's\n"
     ]
    }
   ],
   "source": [
    "word = \"purpose\"\n",
    "for count in reduced.collect():\n",
    "    # kv = str(count).translate(str.maketrans('', '', string.punctuation)).split(' ')\n",
    "    kv = strip_punc(str(count))\n",
    "    if word == kv[0]:\n",
    "        print('Found \\'{}\\' occurs \\'{}\\' times'.format(kv[0], kv[1])) \n",
    "        search_word_in_line(word)\n",
    "        break"
   ]
  },
  {
   "cell_type": "markdown",
   "metadata": {},
   "source": [
    "## Manipulating airline performance data"
   ]
  },
  {
   "cell_type": "code",
   "execution_count": 8,
   "metadata": {},
   "outputs": [],
   "source": [
    "\n",
    "from pyspark.sql.types import Row\n",
    "from datetime import datetime\n"
   ]
  },
  {
   "cell_type": "code",
   "execution_count": 9,
   "metadata": {},
   "outputs": [],
   "source": [
    "data_by_year = '/user/student/airline/2000.csv'\n",
    "airline_performance = spark.read.option(\"header\", \"true\").csv(data_by_year)"
   ]
  },
  {
   "cell_type": "code",
   "execution_count": 10,
   "metadata": {},
   "outputs": [
    {
     "data": {
      "text/plain": [
       "Row(Year='2000', Month='1', DayofMonth='28', DayOfWeek='5', DepTime='1647', CRSDepTime='1647', ArrTime='1906', CRSArrTime='1859', UniqueCarrier='HP', FlightNum='154', TailNum='N808AW', ActualElapsedTime='259', CRSElapsedTime='252', AirTime='233', ArrDelay='7', DepDelay='0', Origin='ATL', Dest='PHX', Distance='1587', TaxiIn='15', TaxiOut='11', Cancelled='0', CancellationCode='NA', Diverted='0', CarrierDelay='NA', WeatherDelay='NA', NASDelay='NA', SecurityDelay='NA', LateAircraftDelay='NA')"
      ]
     },
     "execution_count": 10,
     "metadata": {},
     "output_type": "execute_result"
    }
   ],
   "source": [
    "airline_performance.head()"
   ]
  },
  {
   "cell_type": "code",
   "execution_count": 11,
   "metadata": {},
   "outputs": [
    {
     "data": {
      "text/plain": [
       "DataFrame[Year: string, Month: string, DayofMonth: string, DayOfWeek: string, DepTime: string, CRSDepTime: string, ArrTime: string, CRSArrTime: string, UniqueCarrier: string, FlightNum: string, TailNum: string, ActualElapsedTime: string, CRSElapsedTime: string, AirTime: string, ArrDelay: string, DepDelay: string, Origin: string, Dest: string, Distance: string, TaxiIn: string, TaxiOut: string, Cancelled: string, CancellationCode: string, Diverted: string, CarrierDelay: string, WeatherDelay: string, NASDelay: string, SecurityDelay: string, LateAircraftDelay: string]"
      ]
     },
     "execution_count": 11,
     "metadata": {},
     "output_type": "execute_result"
    }
   ],
   "source": [
    "airline_performance"
   ]
  },
  {
   "cell_type": "code",
   "execution_count": 12,
   "metadata": {},
   "outputs": [],
   "source": [
    "from pyspark.sql.types import IntegerType\n",
    "airline_performance = airline_performance.withColumn(\"ArrDelay\", airline_performance[\"ArrDelay\"].cast(IntegerType()))\n",
    "airline_performance = airline_performance.withColumn(\"DepDelay\", airline_performance[\"DepDelay\"].cast(IntegerType()))"
   ]
  },
  {
   "cell_type": "code",
   "execution_count": 13,
   "metadata": {},
   "outputs": [
    {
     "name": "stdout",
     "output_type": "stream",
     "text": [
      "+-------+------------------+\n",
      "|summary|          ArrDelay|\n",
      "+-------+------------------+\n",
      "|  count|           5481303|\n",
      "|   mean|10.472886100257549|\n",
      "| stddev|35.999971215504885|\n",
      "|    min|             -1298|\n",
      "|    max|              1441|\n",
      "+-------+------------------+\n",
      "\n",
      "+-------+------------------+\n",
      "|summary|          DepDelay|\n",
      "+-------+------------------+\n",
      "|  count|           5495557|\n",
      "|   mean|11.280681830795313|\n",
      "| stddev|33.551670355502424|\n",
      "|    min|              -990|\n",
      "|    max|              1435|\n",
      "+-------+------------------+\n",
      "\n"
     ]
    }
   ],
   "source": [
    "airline_performance.describe(['ArrDelay']).show()\n",
    "airline_performance.describe(['DepDelay']).show()"
   ]
  },
  {
   "cell_type": "code",
   "execution_count": 14,
   "metadata": {
    "scrolled": true
   },
   "outputs": [
    {
     "name": "stdout",
     "output_type": "stream",
     "text": [
      "+----+------------------------------------------+\n",
      "|Dest|CASE WHEN (ArrDelay > 0) THEN 1 ELSE 0 END|\n",
      "+----+------------------------------------------+\n",
      "| PHX|                                         1|\n",
      "| PHX|                                         1|\n",
      "| PHX|                                         0|\n",
      "| PHX|                                         0|\n",
      "| PHX|                                         0|\n",
      "| PHX|                                         1|\n",
      "| PHX|                                         1|\n",
      "| PHX|                                         1|\n",
      "| PHX|                                         0|\n",
      "| PHX|                                         1|\n",
      "| PHX|                                         1|\n",
      "| PHX|                                         0|\n",
      "| PHX|                                         0|\n",
      "| PHX|                                         0|\n",
      "| PHX|                                         1|\n",
      "| PHX|                                         0|\n",
      "| PHX|                                         0|\n",
      "| PHX|                                         0|\n",
      "| PHX|                                         0|\n",
      "| PHX|                                         0|\n",
      "+----+------------------------------------------+\n",
      "only showing top 20 rows\n",
      "\n"
     ]
    }
   ],
   "source": [
    "import pyspark.sql.functions as F\n",
    "airline_performance.select(airline_performance.Dest,F.when(airline_performance.ArrDelay > 0, 1).otherwise(0)).show()"
   ]
  },
  {
   "cell_type": "code",
   "execution_count": 15,
   "metadata": {},
   "outputs": [
    {
     "name": "stdout",
     "output_type": "stream",
     "text": [
      "+----+-----+----------+---------+-------+----------+-------+----------+-------------+---------+-------+-----------------+--------------+-------+--------+--------+------+----+--------+------+-------+---------+----------------+--------+------------+------------+--------+-------------+-----------------+-------------+-------------+\n",
      "|Year|Month|DayofMonth|DayOfWeek|DepTime|CRSDepTime|ArrTime|CRSArrTime|UniqueCarrier|FlightNum|TailNum|ActualElapsedTime|CRSElapsedTime|AirTime|ArrDelay|DepDelay|Origin|Dest|Distance|TaxiIn|TaxiOut|Cancelled|CancellationCode|Diverted|CarrierDelay|WeatherDelay|NASDelay|SecurityDelay|LateAircraftDelay|ArrDelayCount|DepDelayCount|\n",
      "+----+-----+----------+---------+-------+----------+-------+----------+-------------+---------+-------+-----------------+--------------+-------+--------+--------+------+----+--------+------+-------+---------+----------------+--------+------------+------------+--------+-------------+-----------------+-------------+-------------+\n",
      "|2000|    1|        28|        5|   1647|      1647|   1906|      1859|           HP|      154| N808AW|              259|           252|    233|       7|       0|   ATL| PHX|    1587|    15|     11|        0|              NA|       0|          NA|          NA|      NA|           NA|               NA|            1|            0|\n",
      "|2000|    1|        29|        6|   1648|      1647|   1939|      1859|           HP|      154| N653AW|              291|           252|    239|      40|       1|   ATL| PHX|    1587|     5|     47|        0|              NA|       0|          NA|          NA|      NA|           NA|               NA|            1|            1|\n",
      "+----+-----+----------+---------+-------+----------+-------+----------+-------------+---------+-------+-----------------+--------------+-------+--------+--------+------+----+--------+------+-------+---------+----------------+--------+------------+------------+--------+-------------+-----------------+-------------+-------------+\n",
      "only showing top 2 rows\n",
      "\n"
     ]
    }
   ],
   "source": [
    "airline_performance = airline_performance.withColumn('ArrDelayCount',F.when(airline_performance.ArrDelay > 0, 1).otherwise(0))\n",
    "airline_performance = airline_performance.withColumn('DepDelayCount',F.when(airline_performance.DepDelay > 0, 1).otherwise(0))\n",
    "airline_performance.show(2)"
   ]
  },
  {
   "cell_type": "code",
   "execution_count": 16,
   "metadata": {},
   "outputs": [
    {
     "name": "stdout",
     "output_type": "stream",
     "text": [
      "+----+------+------+\n",
      "|Year|Origin| count|\n",
      "+----+------+------+\n",
      "|2000|   ORD|150619|\n",
      "+----+------+------+\n",
      "only showing top 1 row\n",
      "\n"
     ]
    }
   ],
   "source": [
    "#Most Depature Delay Airport 2000\n",
    "airline_performance\\\n",
    ".filter(F.col('DepDelayCount') == 1)\\\n",
    ".groupBy('Year','Origin')\\\n",
    ".count()\\\n",
    ".orderBy('count',ascending=False)\\\n",
    ".show(1)"
   ]
  },
  {
   "cell_type": "code",
   "execution_count": 17,
   "metadata": {},
   "outputs": [
    {
     "name": "stdout",
     "output_type": "stream",
     "text": [
      "+----+------+-----+\n",
      "|Year|Origin|count|\n",
      "+----+------+-----+\n",
      "|2000|   BQN|    2|\n",
      "+----+------+-----+\n",
      "only showing top 1 row\n",
      "\n"
     ]
    }
   ],
   "source": [
    "#Least Depature Delay Airport 2000\n",
    "airline_performance\\\n",
    ".filter(F.col('DepDelayCount') == 1)\\\n",
    ".groupBy('Year','Origin')\\\n",
    ".count()\\\n",
    ".orderBy('count',ascending=True)\\\n",
    ".show(1)"
   ]
  },
  {
   "cell_type": "code",
   "execution_count": 18,
   "metadata": {
    "scrolled": true
   },
   "outputs": [
    {
     "name": "stdout",
     "output_type": "stream",
     "text": [
      "+----+----+------+\n",
      "|Year|Dest| count|\n",
      "+----+----+------+\n",
      "|2000| ORD|154124|\n",
      "+----+----+------+\n",
      "only showing top 1 row\n",
      "\n"
     ]
    }
   ],
   "source": [
    "#Most Arrival Delay Airport 2000\n",
    "airline_performance\\\n",
    ".filter(F.col('ArrDelayCount') == 1)\\\n",
    ".groupBy('Year','Dest')\\\n",
    ".count()\\\n",
    ".orderBy('count',ascending=False)\\\n",
    ".show(1)"
   ]
  },
  {
   "cell_type": "code",
   "execution_count": 19,
   "metadata": {},
   "outputs": [
    {
     "name": "stdout",
     "output_type": "stream",
     "text": [
      "+----+----+-----+\n",
      "|Year|Dest|count|\n",
      "+----+----+-----+\n",
      "|2000| LFT|    1|\n",
      "+----+----+-----+\n",
      "only showing top 1 row\n",
      "\n"
     ]
    }
   ],
   "source": [
    "#least Arrival Delay Airport 2000\n",
    "airline_performance\\\n",
    ".filter(F.col('ArrDelayCount') == 1)\\\n",
    ".groupBy('Year','Dest')\\\n",
    ".count()\\\n",
    ".orderBy('count',ascending=True)\\\n",
    ".show(1)"
   ]
  },
  {
   "cell_type": "code",
   "execution_count": 20,
   "metadata": {},
   "outputs": [
    {
     "name": "stdout",
     "output_type": "stream",
     "text": [
      "+----+-------------+---------+-----+\n",
      "|Year|UniqueCarrier|FlightNum|count|\n",
      "+----+-------------+---------+-----+\n",
      "|2000|           WN|      504| 1195|\n",
      "+----+-------------+---------+-----+\n",
      "only showing top 1 row\n",
      "\n"
     ]
    }
   ],
   "source": [
    "#Most Arrival Delay Flight 2000\n",
    "airline_performance\\\n",
    ".filter(F.col('ArrDelayCount') == 1)\\\n",
    ".groupBy('Year','UniqueCarrier','FlightNum')\\\n",
    ".count()\\\n",
    ".orderBy('count',ascending=False)\\\n",
    ".show(1)"
   ]
  },
  {
   "cell_type": "code",
   "execution_count": 21,
   "metadata": {},
   "outputs": [
    {
     "name": "stdout",
     "output_type": "stream",
     "text": [
      "+----+-------------+---------+-----+\n",
      "|Year|UniqueCarrier|FlightNum|count|\n",
      "+----+-------------+---------+-----+\n",
      "|2000|           CO|      732|    1|\n",
      "+----+-------------+---------+-----+\n",
      "only showing top 1 row\n",
      "\n"
     ]
    }
   ],
   "source": [
    "#Least Arrival Delay Flight 2000\n",
    "airline_performance\\\n",
    ".filter(F.col('ArrDelayCount') == 1)\\\n",
    ".groupBy('Year','UniqueCarrier','FlightNum')\\\n",
    ".count()\\\n",
    ".orderBy('count',ascending=True)\\\n",
    ".show(1)"
   ]
  },
  {
   "cell_type": "code",
   "execution_count": 22,
   "metadata": {
    "scrolled": true
   },
   "outputs": [
    {
     "name": "stdout",
     "output_type": "stream",
     "text": [
      "+----+-------------+---------+-----+\n",
      "|Year|UniqueCarrier|FlightNum|count|\n",
      "+----+-------------+---------+-----+\n",
      "|2000|           WN|      504| 1191|\n",
      "+----+-------------+---------+-----+\n",
      "only showing top 1 row\n",
      "\n"
     ]
    }
   ],
   "source": [
    "#Most Departure Delay Flight 2000\n",
    "airline_performance\\\n",
    ".filter(F.col('DepDelayCount') == 1)\\\n",
    ".groupBy('Year','UniqueCarrier','FlightNum')\\\n",
    ".count()\\\n",
    ".orderBy('count',ascending=False)\\\n",
    ".show(1)"
   ]
  },
  {
   "cell_type": "code",
   "execution_count": 23,
   "metadata": {},
   "outputs": [
    {
     "name": "stdout",
     "output_type": "stream",
     "text": [
      "+----+-------------+---------+-----+\n",
      "|Year|UniqueCarrier|FlightNum|count|\n",
      "+----+-------------+---------+-----+\n",
      "|2000|           HP|     2385|    1|\n",
      "+----+-------------+---------+-----+\n",
      "only showing top 1 row\n",
      "\n"
     ]
    }
   ],
   "source": [
    "#Least Departure Delay Flight 2000\n",
    "airline_performance\\\n",
    ".filter(F.col('DepDelayCount') == 1)\\\n",
    ".groupBy('Year','UniqueCarrier','FlightNum')\\\n",
    ".count()\\\n",
    ".orderBy('count',ascending=True)\\\n",
    ".show(1)"
   ]
  },
  {
   "cell_type": "code",
   "execution_count": 24,
   "metadata": {},
   "outputs": [
    {
     "name": "stdout",
     "output_type": "stream",
     "text": [
      "+----+-------------+------------------+\n",
      "|Year|UniqueCarrier|     avg(ArrDelay)|\n",
      "+----+-------------+------------------+\n",
      "|2000|           WN|10.477490008880995|\n",
      "|2000|           HP|14.938117949232083|\n",
      "|2000|           NW| 5.949147881395566|\n",
      "|2000|           CO| 6.849962457488627|\n",
      "|2000|           AQ| 2.541563104114885|\n",
      "|2000|           US| 9.861894755604572|\n",
      "|2000|           AA| 9.726826100857926|\n",
      "|2000|           DL| 8.279562675582072|\n",
      "|2000|           UA|18.479591948454342|\n",
      "|2000|           AS|12.821446179129007|\n",
      "|2000|           TW| 9.143521902349235|\n",
      "+----+-------------+------------------+\n",
      "\n"
     ]
    }
   ],
   "source": [
    "airline_performance\\\n",
    ".groupBy('Year','UniqueCarrier')\\\n",
    ".agg(F.mean('ArrDelay'))\\\n",
    ".show()"
   ]
  },
  {
   "cell_type": "code",
   "execution_count": 25,
   "metadata": {
    "scrolled": true
   },
   "outputs": [
    {
     "name": "stdout",
     "output_type": "stream",
     "text": [
      "+----+-------------+------------------+\n",
      "|Year|UniqueCarrier|     avg(DepDelay)|\n",
      "+----+-------------+------------------+\n",
      "|2000|           WN|12.707381516850198|\n",
      "|2000|           HP| 14.44049719173445|\n",
      "|2000|           NW| 7.725420104963274|\n",
      "|2000|           CO| 8.527505573702493|\n",
      "|2000|           AQ|1.5896161281413974|\n",
      "|2000|           US| 9.140569466629843|\n",
      "|2000|           AA|11.038083717379468|\n",
      "|2000|           DL|     9.45530543322|\n",
      "|2000|           UA| 17.60769115237575|\n",
      "|2000|           AS|12.951644905055739|\n",
      "|2000|           TW| 9.593641289613062|\n",
      "+----+-------------+------------------+\n",
      "\n"
     ]
    },
    {
     "name": "stderr",
     "output_type": "stream",
     "text": [
      "----------------------------------------\n",
      "Exception happened during processing of request from ('127.0.0.1', 43956)\n",
      "Traceback (most recent call last):\n",
      "  File \"/usr/lib/python3.6/socketserver.py\", line 320, in _handle_request_noblock\n",
      "    self.process_request(request, client_address)\n",
      "  File \"/usr/lib/python3.6/socketserver.py\", line 351, in process_request\n",
      "    self.finish_request(request, client_address)\n",
      "  File \"/usr/lib/python3.6/socketserver.py\", line 364, in finish_request\n",
      "    self.RequestHandlerClass(request, client_address, self)\n",
      "  File \"/usr/lib/python3.6/socketserver.py\", line 724, in __init__\n",
      "    self.handle()\n",
      "  File \"/home/student/dev/spark/python/pyspark/accumulators.py\", line 268, in handle\n",
      "    poll(accum_updates)\n",
      "  File \"/home/student/dev/spark/python/pyspark/accumulators.py\", line 241, in poll\n",
      "    if func():\n",
      "  File \"/home/student/dev/spark/python/pyspark/accumulators.py\", line 245, in accum_updates\n",
      "    num_updates = read_int(self.rfile)\n",
      "  File \"/home/student/dev/spark/python/pyspark/serializers.py\", line 714, in read_int\n",
      "    raise EOFError\n",
      "EOFError\n",
      "----------------------------------------\n"
     ]
    }
   ],
   "source": [
    "airline_performance\\\n",
    ".groupBy('Year','UniqueCarrier')\\\n",
    ".agg(F.mean('DepDelay'))\\\n",
    ".show()"
   ]
  },
  {
   "cell_type": "code",
   "execution_count": null,
   "metadata": {},
   "outputs": [],
   "source": []
  }
 ],
 "metadata": {
  "kernelspec": {
   "display_name": "Python 3",
   "language": "python",
   "name": "python3"
  },
  "language_info": {
   "codemirror_mode": {
    "name": "ipython",
    "version": 3
   },
   "file_extension": ".py",
   "mimetype": "text/x-python",
   "name": "python",
   "nbconvert_exporter": "python",
   "pygments_lexer": "ipython3",
   "version": "3.6.9"
  }
 },
 "nbformat": 4,
 "nbformat_minor": 2
}
