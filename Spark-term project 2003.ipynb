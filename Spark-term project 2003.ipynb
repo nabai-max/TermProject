{
 "cells": [
  {
   "cell_type": "code",
   "execution_count": 1,
   "metadata": {},
   "outputs": [],
   "source": [
    "from pyspark import SparkContext, SparkConf, SQLContext\n",
    "from pyspark.sql import SparkSession, Row\n",
    "import pandas as pd\n"
   ]
  },
  {
   "cell_type": "code",
   "execution_count": 2,
   "metadata": {},
   "outputs": [],
   "source": [
    "spark = SparkSession.builder.appName(\"rdd-app\").config(\"spark.config.option\", \"value\").getOrCreate()\n",
    "scfg = SparkConf().setAppName('rdd-app')\n",
    "sc = spark.sparkContext"
   ]
  },
  {
   "cell_type": "code",
   "execution_count": 3,
   "metadata": {},
   "outputs": [],
   "source": [
    "import string\n",
    "\n",
    "text_file = '/user/student/shakespeare/tragedy/hamlet.txt'\n",
    "text = sc.textFile(text_file)"
   ]
  },
  {
   "cell_type": "code",
   "execution_count": 4,
   "metadata": {},
   "outputs": [],
   "source": [
    "def strip_punc(s):\n",
    "    return s.translate(str.maketrans('', '', string.punctuation)).split(' ')\n",
    "\n",
    "def search_word_in_line(word):\n",
    "    count = 1\n",
    "    for line in text.collect():\n",
    "        if word in strip_punc(line):\n",
    "            print('{}. {}'.format(count, line))\n",
    "        count += 1"
   ]
  },
  {
   "cell_type": "code",
   "execution_count": 5,
   "metadata": {},
   "outputs": [],
   "source": [
    "flatmap = text.flatMap(lambda line: line.translate(str.maketrans('', '', string.punctuation)).split(' '))\n",
    "map = flatmap.map(lambda word: (word, 1))\n",
    "reduced = map.reduceByKey(lambda a, b: a + b)"
   ]
  },
  {
   "cell_type": "code",
   "execution_count": 6,
   "metadata": {},
   "outputs": [],
   "source": [
    "counts = text.flatMap(lambda line: line.translate(str.maketrans('', '', string.punctuation)).split(' '))\\\n",
    "             .map(lambda word: (word, 1))\\\n",
    "             .reduceByKey(lambda a, b: a + b)    "
   ]
  },
  {
   "cell_type": "code",
   "execution_count": 7,
   "metadata": {},
   "outputs": [
    {
     "name": "stdout",
     "output_type": "stream",
     "text": [
      "Found 'purpose' occurs '11' times\n",
      "2599.     Why, any thing, but to the purpose. You were sent\n",
      "2926.     Black as his purpose, did the night resemble\n",
      "3216.     And drive his purpose on to these delights.\n",
      "3540.     from the purpose of playing, whose end, both at the\n",
      "3909.     The passion ending, doth the purpose lose.\n",
      "4766.     Is but to whet thy almost blunted purpose.\n",
      "6202.     And, for that purpose, I'll anoint my sword.\n",
      "6227.     Our purpose may hold there.\n",
      "6378.     purpose, confess thyself--\n",
      "7328.     king hold his purpose, I will win for him an I can;\n",
      "7376.     I am constant to my purpose; they follow the king's\n"
     ]
    }
   ],
   "source": [
    "word = \"purpose\"\n",
    "for count in reduced.collect():\n",
    "    # kv = str(count).translate(str.maketrans('', '', string.punctuation)).split(' ')\n",
    "    kv = strip_punc(str(count))\n",
    "    if word == kv[0]:\n",
    "        print('Found \\'{}\\' occurs \\'{}\\' times'.format(kv[0], kv[1])) \n",
    "        search_word_in_line(word)\n",
    "        break"
   ]
  },
  {
   "cell_type": "markdown",
   "metadata": {},
   "source": [
    "## Manipulating airline performance data"
   ]
  },
  {
   "cell_type": "code",
   "execution_count": 8,
   "metadata": {},
   "outputs": [],
   "source": [
    "\n",
    "from pyspark.sql.types import Row\n",
    "from datetime import datetime\n"
   ]
  },
  {
   "cell_type": "code",
   "execution_count": 9,
   "metadata": {},
   "outputs": [],
   "source": [
    "data_by_year = '/user/student/airline/2003.csv'\n",
    "airline_performance = spark.read.option(\"header\", \"true\").csv(data_by_year)"
   ]
  },
  {
   "cell_type": "code",
   "execution_count": 10,
   "metadata": {},
   "outputs": [
    {
     "data": {
      "text/plain": [
       "Row(Year='2003', Month='1', DayofMonth='29', DayOfWeek='3', DepTime='1651', CRSDepTime='1655', ArrTime='1912', CRSArrTime='1913', UniqueCarrier='UA', FlightNum='1017', TailNum='N202UA', ActualElapsedTime='141', CRSElapsedTime='138', AirTime='119', ArrDelay='-1', DepDelay='-4', Origin='ORD', Dest='MSY', Distance='837', TaxiIn='5', TaxiOut='17', Cancelled='0', CancellationCode='NA', Diverted='0', CarrierDelay='NA', WeatherDelay='NA', NASDelay='NA', SecurityDelay='NA', LateAircraftDelay='NA')"
      ]
     },
     "execution_count": 10,
     "metadata": {},
     "output_type": "execute_result"
    }
   ],
   "source": [
    "airline_performance.head()"
   ]
  },
  {
   "cell_type": "code",
   "execution_count": 11,
   "metadata": {},
   "outputs": [
    {
     "data": {
      "text/plain": [
       "DataFrame[Year: string, Month: string, DayofMonth: string, DayOfWeek: string, DepTime: string, CRSDepTime: string, ArrTime: string, CRSArrTime: string, UniqueCarrier: string, FlightNum: string, TailNum: string, ActualElapsedTime: string, CRSElapsedTime: string, AirTime: string, ArrDelay: string, DepDelay: string, Origin: string, Dest: string, Distance: string, TaxiIn: string, TaxiOut: string, Cancelled: string, CancellationCode: string, Diverted: string, CarrierDelay: string, WeatherDelay: string, NASDelay: string, SecurityDelay: string, LateAircraftDelay: string]"
      ]
     },
     "execution_count": 11,
     "metadata": {},
     "output_type": "execute_result"
    }
   ],
   "source": [
    "airline_performance"
   ]
  },
  {
   "cell_type": "code",
   "execution_count": 12,
   "metadata": {},
   "outputs": [],
   "source": [
    "from pyspark.sql.types import IntegerType\n",
    "airline_performance = airline_performance.withColumn(\"ArrDelay\", airline_performance[\"ArrDelay\"].cast(IntegerType()))\n",
    "airline_performance = airline_performance.withColumn(\"DepDelay\", airline_performance[\"DepDelay\"].cast(IntegerType()))"
   ]
  },
  {
   "cell_type": "code",
   "execution_count": 13,
   "metadata": {},
   "outputs": [
    {
     "name": "stdout",
     "output_type": "stream",
     "text": [
      "+-------+------------------+\n",
      "|summary|          ArrDelay|\n",
      "+-------+------------------+\n",
      "|  count|           6375689|\n",
      "|   mean| 3.596694098473122|\n",
      "| stddev|30.315633327428507|\n",
      "|    min|              -937|\n",
      "|    max|              1612|\n",
      "+-------+------------------+\n",
      "\n",
      "+-------+------------------+\n",
      "|summary|          DepDelay|\n",
      "+-------+------------------+\n",
      "|  count|           6387071|\n",
      "|   mean|  5.24823052695046|\n",
      "| stddev|26.170174590947493|\n",
      "|    min|             -1410|\n",
      "|    max|              1582|\n",
      "+-------+------------------+\n",
      "\n"
     ]
    }
   ],
   "source": [
    "airline_performance.describe(['ArrDelay']).show()\n",
    "airline_performance.describe(['DepDelay']).show()"
   ]
  },
  {
   "cell_type": "code",
   "execution_count": 14,
   "metadata": {
    "scrolled": true
   },
   "outputs": [
    {
     "name": "stdout",
     "output_type": "stream",
     "text": [
      "+----+------------------------------------------+\n",
      "|Dest|CASE WHEN (ArrDelay > 0) THEN 1 ELSE 0 END|\n",
      "+----+------------------------------------------+\n",
      "| MSY|                                         0|\n",
      "| MSY|                                         0|\n",
      "| MSY|                                         1|\n",
      "| ORD|                                         0|\n",
      "| ORD|                                         1|\n",
      "| ORD|                                         1|\n",
      "| ORD|                                         0|\n",
      "| ORD|                                         1|\n",
      "| ORD|                                         1|\n",
      "| BOS|                                         1|\n",
      "| BOS|                                         0|\n",
      "| BOS|                                         0|\n",
      "| BOS|                                         0|\n",
      "| BOS|                                         1|\n",
      "| BOS|                                         0|\n",
      "| BOS|                                         0|\n",
      "| BOS|                                         0|\n",
      "| BOS|                                         0|\n",
      "| BOS|                                         0|\n",
      "| BOS|                                         0|\n",
      "+----+------------------------------------------+\n",
      "only showing top 20 rows\n",
      "\n"
     ]
    }
   ],
   "source": [
    "import pyspark.sql.functions as F\n",
    "airline_performance.select(airline_performance.Dest,F.when(airline_performance.ArrDelay > 0, 1).otherwise(0)).show()"
   ]
  },
  {
   "cell_type": "code",
   "execution_count": 15,
   "metadata": {},
   "outputs": [
    {
     "name": "stdout",
     "output_type": "stream",
     "text": [
      "+----+-----+----------+---------+-------+----------+-------+----------+-------------+---------+-------+-----------------+--------------+-------+--------+--------+------+----+--------+------+-------+---------+----------------+--------+------------+------------+--------+-------------+-----------------+-------------+-------------+\n",
      "|Year|Month|DayofMonth|DayOfWeek|DepTime|CRSDepTime|ArrTime|CRSArrTime|UniqueCarrier|FlightNum|TailNum|ActualElapsedTime|CRSElapsedTime|AirTime|ArrDelay|DepDelay|Origin|Dest|Distance|TaxiIn|TaxiOut|Cancelled|CancellationCode|Diverted|CarrierDelay|WeatherDelay|NASDelay|SecurityDelay|LateAircraftDelay|ArrDelayCount|DepDelayCount|\n",
      "+----+-----+----------+---------+-------+----------+-------+----------+-------------+---------+-------+-----------------+--------------+-------+--------+--------+------+----+--------+------+-------+---------+----------------+--------+------------+------------+--------+-------------+-----------------+-------------+-------------+\n",
      "|2003|    1|        29|        3|   1651|      1655|   1912|      1913|           UA|     1017| N202UA|              141|           138|    119|      -1|      -4|   ORD| MSY|     837|     5|     17|        0|              NA|       0|          NA|          NA|      NA|           NA|               NA|            0|            0|\n",
      "|2003|    1|        30|        4|   1654|      1655|   1910|      1913|           UA|     1017| N311UA|              136|           138|    108|      -3|      -1|   ORD| MSY|     837|     2|     26|        0|              NA|       0|          NA|          NA|      NA|           NA|               NA|            0|            0|\n",
      "+----+-----+----------+---------+-------+----------+-------+----------+-------------+---------+-------+-----------------+--------------+-------+--------+--------+------+----+--------+------+-------+---------+----------------+--------+------------+------------+--------+-------------+-----------------+-------------+-------------+\n",
      "only showing top 2 rows\n",
      "\n"
     ]
    }
   ],
   "source": [
    "airline_performance = airline_performance.withColumn('ArrDelayCount',F.when(airline_performance.ArrDelay > 0, 1).otherwise(0))\n",
    "airline_performance = airline_performance.withColumn('DepDelayCount',F.when(airline_performance.DepDelay > 0, 1).otherwise(0))\n",
    "airline_performance.show(2)"
   ]
  },
  {
   "cell_type": "code",
   "execution_count": 16,
   "metadata": {},
   "outputs": [
    {
     "name": "stdout",
     "output_type": "stream",
     "text": [
      "+----+------+------+\n",
      "|Year|Origin| count|\n",
      "+----+------+------+\n",
      "|2003|   ATL|167354|\n",
      "+----+------+------+\n",
      "only showing top 1 row\n",
      "\n"
     ]
    }
   ],
   "source": [
    "#Most Depature Delay Airport 2003\n",
    "airline_performance\\\n",
    ".filter(F.col('DepDelayCount') == 1)\\\n",
    ".groupBy('Year','Origin')\\\n",
    ".count()\\\n",
    ".orderBy('count',ascending=False)\\\n",
    ".show(1)"
   ]
  },
  {
   "cell_type": "code",
   "execution_count": 17,
   "metadata": {},
   "outputs": [
    {
     "name": "stdout",
     "output_type": "stream",
     "text": [
      "+----+------+-----+\n",
      "|Year|Origin|count|\n",
      "+----+------+-----+\n",
      "|2003|   BFF|    1|\n",
      "+----+------+-----+\n",
      "only showing top 1 row\n",
      "\n"
     ]
    }
   ],
   "source": [
    "#Least Depature Delay Airport 2003\n",
    "airline_performance\\\n",
    ".filter(F.col('DepDelayCount') == 1)\\\n",
    ".groupBy('Year','Origin')\\\n",
    ".count()\\\n",
    ".orderBy('count',ascending=True)\\\n",
    ".show(1)"
   ]
  },
  {
   "cell_type": "code",
   "execution_count": 18,
   "metadata": {
    "scrolled": true
   },
   "outputs": [
    {
     "name": "stdout",
     "output_type": "stream",
     "text": [
      "+----+----+------+\n",
      "|Year|Dest| count|\n",
      "+----+----+------+\n",
      "|2003| ATL|153285|\n",
      "+----+----+------+\n",
      "only showing top 1 row\n",
      "\n"
     ]
    }
   ],
   "source": [
    "#Most Arrival Delay Airport 2003\n",
    "airline_performance\\\n",
    ".filter(F.col('ArrDelayCount') == 1)\\\n",
    ".groupBy('Year','Dest')\\\n",
    ".count()\\\n",
    ".orderBy('count',ascending=False)\\\n",
    ".show(1)"
   ]
  },
  {
   "cell_type": "code",
   "execution_count": 19,
   "metadata": {},
   "outputs": [
    {
     "name": "stdout",
     "output_type": "stream",
     "text": [
      "+----+----+-----+\n",
      "|Year|Dest|count|\n",
      "+----+----+-----+\n",
      "|2003| MKK|    5|\n",
      "+----+----+-----+\n",
      "only showing top 1 row\n",
      "\n"
     ]
    }
   ],
   "source": [
    "#least Arrival Delay Airport 2003\n",
    "airline_performance\\\n",
    ".filter(F.col('ArrDelayCount') == 1)\\\n",
    ".groupBy('Year','Dest')\\\n",
    ".count()\\\n",
    ".orderBy('count',ascending=True)\\\n",
    ".show(1)"
   ]
  },
  {
   "cell_type": "code",
   "execution_count": 20,
   "metadata": {},
   "outputs": [
    {
     "name": "stdout",
     "output_type": "stream",
     "text": [
      "+----+-------------+---------+-----+\n",
      "|Year|UniqueCarrier|FlightNum|count|\n",
      "+----+-------------+---------+-----+\n",
      "|2003|           WN|     2169|  963|\n",
      "+----+-------------+---------+-----+\n",
      "only showing top 1 row\n",
      "\n"
     ]
    }
   ],
   "source": [
    "#Most Arrival Delay Flight 2003\n",
    "airline_performance\\\n",
    ".filter(F.col('ArrDelayCount') == 1)\\\n",
    ".groupBy('Year','UniqueCarrier','FlightNum')\\\n",
    ".count()\\\n",
    ".orderBy('count',ascending=False)\\\n",
    ".show(1)"
   ]
  },
  {
   "cell_type": "code",
   "execution_count": 21,
   "metadata": {},
   "outputs": [
    {
     "name": "stdout",
     "output_type": "stream",
     "text": [
      "+----+-------------+---------+-----+\n",
      "|Year|UniqueCarrier|FlightNum|count|\n",
      "+----+-------------+---------+-----+\n",
      "|2003|           XE|     3167|    1|\n",
      "+----+-------------+---------+-----+\n",
      "only showing top 1 row\n",
      "\n"
     ]
    }
   ],
   "source": [
    "#Least Arrival Delay Flight 2003\n",
    "airline_performance\\\n",
    ".filter(F.col('ArrDelayCount') == 1)\\\n",
    ".groupBy('Year','UniqueCarrier','FlightNum')\\\n",
    ".count()\\\n",
    ".orderBy('count',ascending=True)\\\n",
    ".show(1)"
   ]
  },
  {
   "cell_type": "code",
   "execution_count": 22,
   "metadata": {
    "scrolled": true
   },
   "outputs": [
    {
     "name": "stdout",
     "output_type": "stream",
     "text": [
      "+----+-------------+---------+-----+\n",
      "|Year|UniqueCarrier|FlightNum|count|\n",
      "+----+-------------+---------+-----+\n",
      "|2003|           AS|       64|  858|\n",
      "+----+-------------+---------+-----+\n",
      "only showing top 1 row\n",
      "\n"
     ]
    }
   ],
   "source": [
    "#Most Departure Delay Flight 2003\n",
    "airline_performance\\\n",
    ".filter(F.col('DepDelayCount') == 1)\\\n",
    ".groupBy('Year','UniqueCarrier','FlightNum')\\\n",
    ".count()\\\n",
    ".orderBy('count',ascending=False)\\\n",
    ".show(1)"
   ]
  },
  {
   "cell_type": "code",
   "execution_count": 23,
   "metadata": {},
   "outputs": [
    {
     "name": "stdout",
     "output_type": "stream",
     "text": [
      "+----+-------------+---------+-----+\n",
      "|Year|UniqueCarrier|FlightNum|count|\n",
      "+----+-------------+---------+-----+\n",
      "|2003|           UA|     1939|    1|\n",
      "+----+-------------+---------+-----+\n",
      "only showing top 1 row\n",
      "\n"
     ]
    }
   ],
   "source": [
    "#Least Departure Delay Flight 2003\n",
    "airline_performance\\\n",
    ".filter(F.col('DepDelayCount') == 1)\\\n",
    ".groupBy('Year','UniqueCarrier','FlightNum')\\\n",
    ".count()\\\n",
    ".orderBy('count',ascending=True)\\\n",
    ".show(1)"
   ]
  },
  {
   "cell_type": "code",
   "execution_count": 24,
   "metadata": {},
   "outputs": [
    {
     "name": "stdout",
     "output_type": "stream",
     "text": [
      "+----+-------------+--------------------+\n",
      "|Year|UniqueCarrier|       avg(ArrDelay)|\n",
      "+----+-------------+--------------------+\n",
      "|2003|           MQ|   4.239333625771869|\n",
      "|2003|           XE|   5.228967480333107|\n",
      "|2003|           CO|   3.782939738463129|\n",
      "|2003|           AS|  3.1776754102105302|\n",
      "|2003|           HP|   3.061532792925571|\n",
      "|2003|           EV|   6.659896536212326|\n",
      "|2003|           NW|  1.9632481097925139|\n",
      "|2003|           WN|  2.0638629859031217|\n",
      "|2003|           HA|-0.14296714579055442|\n",
      "|2003|           FL|   8.366069865632243|\n",
      "|2003|           DH|   6.533820220706404|\n",
      "|2003|           US|   4.223097968334864|\n",
      "|2003|           OO|  2.2876037171402035|\n",
      "|2003|           AA|    3.20733799370944|\n",
      "|2003|           UA|   3.113908238982237|\n",
      "|2003|           DL|  3.8552977159126085|\n",
      "|2003|           TZ|   4.959598623013258|\n",
      "|2003|           B6|   0.986033686986753|\n",
      "+----+-------------+--------------------+\n",
      "\n"
     ]
    }
   ],
   "source": [
    "airline_performance\\\n",
    ".groupBy('Year','UniqueCarrier')\\\n",
    ".agg(F.mean('ArrDelay'))\\\n",
    ".show()"
   ]
  },
  {
   "cell_type": "code",
   "execution_count": 25,
   "metadata": {
    "scrolled": true
   },
   "outputs": [
    {
     "name": "stdout",
     "output_type": "stream",
     "text": [
      "+----+-------------+------------------+\n",
      "|Year|UniqueCarrier|     avg(DepDelay)|\n",
      "+----+-------------+------------------+\n",
      "|2003|           MQ| 5.028931816814106|\n",
      "|2003|           XE| 4.138393896770467|\n",
      "|2003|           CO| 3.900224032383165|\n",
      "|2003|           AS| 5.798805902182644|\n",
      "|2003|           HP| 5.823276597559935|\n",
      "|2003|           EV|  8.88576272328195|\n",
      "|2003|           NW|2.1861469315236306|\n",
      "|2003|           WN| 6.702967177039947|\n",
      "|2003|           HA|1.0343854246856556|\n",
      "|2003|           FL| 6.906482814531121|\n",
      "|2003|           DH| 9.403595306998161|\n",
      "|2003|           US|  4.17614485278527|\n",
      "|2003|           OO| 5.445892902895209|\n",
      "|2003|           AA| 4.674403271720612|\n",
      "|2003|           UA| 4.669889487359629|\n",
      "|2003|           DL| 4.549610356232617|\n",
      "|2003|           TZ| 4.788659416577627|\n",
      "|2003|           B6|  5.65661821879299|\n",
      "+----+-------------+------------------+\n",
      "\n"
     ]
    }
   ],
   "source": [
    "airline_performance\\\n",
    ".groupBy('Year','UniqueCarrier')\\\n",
    ".agg(F.mean('DepDelay'))\\\n",
    ".show()"
   ]
  },
  {
   "cell_type": "code",
   "execution_count": null,
   "metadata": {},
   "outputs": [],
   "source": []
  }
 ],
 "metadata": {
  "kernelspec": {
   "display_name": "Python 3",
   "language": "python",
   "name": "python3"
  },
  "language_info": {
   "codemirror_mode": {
    "name": "ipython",
    "version": 3
   },
   "file_extension": ".py",
   "mimetype": "text/x-python",
   "name": "python",
   "nbconvert_exporter": "python",
   "pygments_lexer": "ipython3",
   "version": "3.6.9"
  }
 },
 "nbformat": 4,
 "nbformat_minor": 2
}
