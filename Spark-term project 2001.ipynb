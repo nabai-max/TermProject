{
 "cells": [
  {
   "cell_type": "code",
   "execution_count": 1,
   "metadata": {},
   "outputs": [],
   "source": [
    "from pyspark import SparkContext, SparkConf, SQLContext\n",
    "from pyspark.sql import SparkSession, Row\n",
    "import pandas as pd\n"
   ]
  },
  {
   "cell_type": "code",
   "execution_count": 2,
   "metadata": {},
   "outputs": [],
   "source": [
    "spark = SparkSession.builder.appName(\"rdd-app\").config(\"spark.config.option\", \"value\").getOrCreate()\n",
    "scfg = SparkConf().setAppName('rdd-app')\n",
    "sc = spark.sparkContext"
   ]
  },
  {
   "cell_type": "code",
   "execution_count": 3,
   "metadata": {},
   "outputs": [],
   "source": [
    "import string\n",
    "\n",
    "text_file = '/user/student/shakespeare/tragedy/hamlet.txt'\n",
    "text = sc.textFile(text_file)"
   ]
  },
  {
   "cell_type": "code",
   "execution_count": 4,
   "metadata": {},
   "outputs": [],
   "source": [
    "def strip_punc(s):\n",
    "    return s.translate(str.maketrans('', '', string.punctuation)).split(' ')\n",
    "\n",
    "def search_word_in_line(word):\n",
    "    count = 1\n",
    "    for line in text.collect():\n",
    "        if word in strip_punc(line):\n",
    "            print('{}. {}'.format(count, line))\n",
    "        count += 1"
   ]
  },
  {
   "cell_type": "code",
   "execution_count": 5,
   "metadata": {},
   "outputs": [],
   "source": [
    "flatmap = text.flatMap(lambda line: line.translate(str.maketrans('', '', string.punctuation)).split(' '))\n",
    "map = flatmap.map(lambda word: (word, 1))\n",
    "reduced = map.reduceByKey(lambda a, b: a + b)"
   ]
  },
  {
   "cell_type": "code",
   "execution_count": 6,
   "metadata": {},
   "outputs": [],
   "source": [
    "counts = text.flatMap(lambda line: line.translate(str.maketrans('', '', string.punctuation)).split(' '))\\\n",
    "             .map(lambda word: (word, 1))\\\n",
    "             .reduceByKey(lambda a, b: a + b)    "
   ]
  },
  {
   "cell_type": "code",
   "execution_count": 7,
   "metadata": {},
   "outputs": [
    {
     "name": "stdout",
     "output_type": "stream",
     "text": [
      "Found 'purpose' occurs '11' times\n",
      "2599.     Why, any thing, but to the purpose. You were sent\n",
      "2926.     Black as his purpose, did the night resemble\n",
      "3216.     And drive his purpose on to these delights.\n",
      "3540.     from the purpose of playing, whose end, both at the\n",
      "3909.     The passion ending, doth the purpose lose.\n",
      "4766.     Is but to whet thy almost blunted purpose.\n",
      "6202.     And, for that purpose, I'll anoint my sword.\n",
      "6227.     Our purpose may hold there.\n",
      "6378.     purpose, confess thyself--\n",
      "7328.     king hold his purpose, I will win for him an I can;\n",
      "7376.     I am constant to my purpose; they follow the king's\n"
     ]
    }
   ],
   "source": [
    "word = \"purpose\"\n",
    "for count in reduced.collect():\n",
    "    # kv = str(count).translate(str.maketrans('', '', string.punctuation)).split(' ')\n",
    "    kv = strip_punc(str(count))\n",
    "    if word == kv[0]:\n",
    "        print('Found \\'{}\\' occurs \\'{}\\' times'.format(kv[0], kv[1])) \n",
    "        search_word_in_line(word)\n",
    "        break"
   ]
  },
  {
   "cell_type": "markdown",
   "metadata": {},
   "source": [
    "## Manipulating airline performance data"
   ]
  },
  {
   "cell_type": "code",
   "execution_count": 8,
   "metadata": {},
   "outputs": [],
   "source": [
    "\n",
    "from pyspark.sql.types import Row\n",
    "from datetime import datetime\n"
   ]
  },
  {
   "cell_type": "code",
   "execution_count": 9,
   "metadata": {},
   "outputs": [],
   "source": [
    "data_by_year = '/user/student/airline/2001.csv'\n",
    "airline_performance = spark.read.option(\"header\", \"true\").csv(data_by_year)"
   ]
  },
  {
   "cell_type": "code",
   "execution_count": 10,
   "metadata": {},
   "outputs": [
    {
     "data": {
      "text/plain": [
       "Row(Year='2001', Month='1', DayofMonth='17', DayOfWeek='3', DepTime='1806', CRSDepTime='1810', ArrTime='1931', CRSArrTime='1934', UniqueCarrier='US', FlightNum='375', TailNum='N700��', ActualElapsedTime='85', CRSElapsedTime='84', AirTime='60', ArrDelay='-3', DepDelay='-4', Origin='BWI', Dest='CLT', Distance='361', TaxiIn='5', TaxiOut='20', Cancelled='0', CancellationCode='NA', Diverted='0', CarrierDelay='NA', WeatherDelay='NA', NASDelay='NA', SecurityDelay='NA', LateAircraftDelay='NA')"
      ]
     },
     "execution_count": 10,
     "metadata": {},
     "output_type": "execute_result"
    }
   ],
   "source": [
    "airline_performance.head()"
   ]
  },
  {
   "cell_type": "code",
   "execution_count": 11,
   "metadata": {},
   "outputs": [
    {
     "data": {
      "text/plain": [
       "DataFrame[Year: string, Month: string, DayofMonth: string, DayOfWeek: string, DepTime: string, CRSDepTime: string, ArrTime: string, CRSArrTime: string, UniqueCarrier: string, FlightNum: string, TailNum: string, ActualElapsedTime: string, CRSElapsedTime: string, AirTime: string, ArrDelay: string, DepDelay: string, Origin: string, Dest: string, Distance: string, TaxiIn: string, TaxiOut: string, Cancelled: string, CancellationCode: string, Diverted: string, CarrierDelay: string, WeatherDelay: string, NASDelay: string, SecurityDelay: string, LateAircraftDelay: string]"
      ]
     },
     "execution_count": 11,
     "metadata": {},
     "output_type": "execute_result"
    }
   ],
   "source": [
    "airline_performance"
   ]
  },
  {
   "cell_type": "code",
   "execution_count": 12,
   "metadata": {},
   "outputs": [],
   "source": [
    "from pyspark.sql.types import IntegerType\n",
    "airline_performance = airline_performance.withColumn(\"ArrDelay\", airline_performance[\"ArrDelay\"].cast(IntegerType()))\n",
    "airline_performance = airline_performance.withColumn(\"DepDelay\", airline_performance[\"DepDelay\"].cast(IntegerType()))"
   ]
  },
  {
   "cell_type": "code",
   "execution_count": 13,
   "metadata": {},
   "outputs": [
    {
     "name": "stdout",
     "output_type": "stream",
     "text": [
      "+-------+------------------+\n",
      "|summary|          ArrDelay|\n",
      "+-------+------------------+\n",
      "|  count|           5723673|\n",
      "|   mean| 5.528248731190619|\n",
      "| stddev|31.429291168399615|\n",
      "|    min|             -1116|\n",
      "|    max|              1688|\n",
      "+-------+------------------+\n",
      "\n",
      "+-------+------------------+\n",
      "|summary|          DepDelay|\n",
      "+-------+------------------+\n",
      "|  count|           5736582|\n",
      "|   mean| 8.154837497311117|\n",
      "| stddev|28.348469290963077|\n",
      "|    min|              -204|\n",
      "|    max|              1692|\n",
      "+-------+------------------+\n",
      "\n"
     ]
    }
   ],
   "source": [
    "airline_performance.describe(['ArrDelay']).show()\n",
    "airline_performance.describe(['DepDelay']).show()"
   ]
  },
  {
   "cell_type": "code",
   "execution_count": 14,
   "metadata": {
    "scrolled": true
   },
   "outputs": [
    {
     "name": "stdout",
     "output_type": "stream",
     "text": [
      "+----+------------------------------------------+\n",
      "|Dest|CASE WHEN (ArrDelay > 0) THEN 1 ELSE 0 END|\n",
      "+----+------------------------------------------+\n",
      "| CLT|                                         0|\n",
      "| CLT|                                         1|\n",
      "| CLT|                                         1|\n",
      "| CLT|                                         1|\n",
      "| CLT|                                         1|\n",
      "| CLT|                                         0|\n",
      "| CLT|                                         0|\n",
      "| CLT|                                         0|\n",
      "| CLT|                                         0|\n",
      "| CLT|                                         0|\n",
      "| CLT|                                         0|\n",
      "| CLT|                                         0|\n",
      "| CLT|                                         0|\n",
      "| CLT|                                         0|\n",
      "| CLT|                                         0|\n",
      "| MHT|                                         1|\n",
      "| MHT|                                         1|\n",
      "| MHT|                                         0|\n",
      "| MHT|                                         0|\n",
      "| MHT|                                         0|\n",
      "+----+------------------------------------------+\n",
      "only showing top 20 rows\n",
      "\n"
     ]
    }
   ],
   "source": [
    "import pyspark.sql.functions as F\n",
    "airline_performance.select(airline_performance.Dest,F.when(airline_performance.ArrDelay > 0, 1).otherwise(0)).show()"
   ]
  },
  {
   "cell_type": "code",
   "execution_count": 15,
   "metadata": {},
   "outputs": [
    {
     "name": "stdout",
     "output_type": "stream",
     "text": [
      "+----+-----+----------+---------+-------+----------+-------+----------+-------------+---------+-------+-----------------+--------------+-------+--------+--------+------+----+--------+------+-------+---------+----------------+--------+------------+------------+--------+-------------+-----------------+-------------+-------------+\n",
      "|Year|Month|DayofMonth|DayOfWeek|DepTime|CRSDepTime|ArrTime|CRSArrTime|UniqueCarrier|FlightNum|TailNum|ActualElapsedTime|CRSElapsedTime|AirTime|ArrDelay|DepDelay|Origin|Dest|Distance|TaxiIn|TaxiOut|Cancelled|CancellationCode|Diverted|CarrierDelay|WeatherDelay|NASDelay|SecurityDelay|LateAircraftDelay|ArrDelayCount|DepDelayCount|\n",
      "+----+-----+----------+---------+-------+----------+-------+----------+-------------+---------+-------+-----------------+--------------+-------+--------+--------+------+----+--------+------+-------+---------+----------------+--------+------------+------------+--------+-------------+-----------------+-------------+-------------+\n",
      "|2001|    1|        17|        3|   1806|      1810|   1931|      1934|           US|      375| N700��|               85|            84|     60|      -3|      -4|   BWI| CLT|     361|     5|     20|        0|              NA|       0|          NA|          NA|      NA|           NA|               NA|            0|            0|\n",
      "|2001|    1|        18|        4|   1805|      1810|   1938|      1934|           US|      375| N713��|               93|            84|     64|       4|      -5|   BWI| CLT|     361|     9|     20|        0|              NA|       0|          NA|          NA|      NA|           NA|               NA|            1|            0|\n",
      "+----+-----+----------+---------+-------+----------+-------+----------+-------------+---------+-------+-----------------+--------------+-------+--------+--------+------+----+--------+------+-------+---------+----------------+--------+------------+------------+--------+-------------+-----------------+-------------+-------------+\n",
      "only showing top 2 rows\n",
      "\n"
     ]
    }
   ],
   "source": [
    "airline_performance = airline_performance.withColumn('ArrDelayCount',F.when(airline_performance.ArrDelay > 0, 1).otherwise(0))\n",
    "airline_performance = airline_performance.withColumn('DepDelayCount',F.when(airline_performance.DepDelay > 0, 1).otherwise(0))\n",
    "airline_performance.show(2)"
   ]
  },
  {
   "cell_type": "code",
   "execution_count": 16,
   "metadata": {},
   "outputs": [
    {
     "name": "stdout",
     "output_type": "stream",
     "text": [
      "+----+------+------+\n",
      "|Year|Origin| count|\n",
      "+----+------+------+\n",
      "|2001|   ORD|154334|\n",
      "+----+------+------+\n",
      "only showing top 1 row\n",
      "\n"
     ]
    }
   ],
   "source": [
    "#Most Depature Delay Airport 2001\n",
    "airline_performance\\\n",
    ".filter(F.col('DepDelayCount') == 1)\\\n",
    ".groupBy('Year','Origin')\\\n",
    ".count()\\\n",
    ".orderBy('count',ascending=False)\\\n",
    ".show(1)"
   ]
  },
  {
   "cell_type": "code",
   "execution_count": 17,
   "metadata": {},
   "outputs": [
    {
     "name": "stdout",
     "output_type": "stream",
     "text": [
      "+----+------+-----+\n",
      "|Year|Origin|count|\n",
      "+----+------+-----+\n",
      "|2001|   ACY|    1|\n",
      "+----+------+-----+\n",
      "only showing top 1 row\n",
      "\n"
     ]
    }
   ],
   "source": [
    "#Least Depature Delay Airport 2001\n",
    "airline_performance\\\n",
    ".filter(F.col('DepDelayCount') == 1)\\\n",
    ".groupBy('Year','Origin')\\\n",
    ".count()\\\n",
    ".orderBy('count',ascending=True)\\\n",
    ".show(1)"
   ]
  },
  {
   "cell_type": "code",
   "execution_count": 18,
   "metadata": {
    "scrolled": true
   },
   "outputs": [
    {
     "name": "stdout",
     "output_type": "stream",
     "text": [
      "+----+----+------+\n",
      "|Year|Dest| count|\n",
      "+----+----+------+\n",
      "|2001| ORD|136932|\n",
      "+----+----+------+\n",
      "only showing top 1 row\n",
      "\n"
     ]
    }
   ],
   "source": [
    "#Most Arrival Delay Airport 2001\n",
    "airline_performance\\\n",
    ".filter(F.col('ArrDelayCount') == 1)\\\n",
    ".groupBy('Year','Dest')\\\n",
    ".count()\\\n",
    ".orderBy('count',ascending=False)\\\n",
    ".show(1)"
   ]
  },
  {
   "cell_type": "code",
   "execution_count": 19,
   "metadata": {},
   "outputs": [
    {
     "name": "stdout",
     "output_type": "stream",
     "text": [
      "+----+----+-----+\n",
      "|Year|Dest|count|\n",
      "+----+----+-----+\n",
      "|2001| RDR|   24|\n",
      "+----+----+-----+\n",
      "only showing top 1 row\n",
      "\n"
     ]
    }
   ],
   "source": [
    "#least Arrival Delay Airport 2001\n",
    "airline_performance\\\n",
    ".filter(F.col('ArrDelayCount') == 1)\\\n",
    ".groupBy('Year','Dest')\\\n",
    ".count()\\\n",
    ".orderBy('count',ascending=True)\\\n",
    ".show(1)"
   ]
  },
  {
   "cell_type": "code",
   "execution_count": 20,
   "metadata": {},
   "outputs": [
    {
     "name": "stdout",
     "output_type": "stream",
     "text": [
      "+----+-------------+---------+-----+\n",
      "|Year|UniqueCarrier|FlightNum|count|\n",
      "+----+-------------+---------+-----+\n",
      "|2001|           AS|       64|  992|\n",
      "+----+-------------+---------+-----+\n",
      "only showing top 1 row\n",
      "\n"
     ]
    }
   ],
   "source": [
    "#Most Arrival Delay Flight 2001\n",
    "airline_performance\\\n",
    ".filter(F.col('ArrDelayCount') == 1)\\\n",
    ".groupBy('Year','UniqueCarrier','FlightNum')\\\n",
    ".count()\\\n",
    ".orderBy('count',ascending=False)\\\n",
    ".show(1)"
   ]
  },
  {
   "cell_type": "code",
   "execution_count": 21,
   "metadata": {},
   "outputs": [
    {
     "name": "stdout",
     "output_type": "stream",
     "text": [
      "+----+-------------+---------+-----+\n",
      "|Year|UniqueCarrier|FlightNum|count|\n",
      "+----+-------------+---------+-----+\n",
      "|2001|           HP|     2227|    1|\n",
      "+----+-------------+---------+-----+\n",
      "only showing top 1 row\n",
      "\n"
     ]
    }
   ],
   "source": [
    "#Least Arrival Delay Flight 2001\n",
    "airline_performance\\\n",
    ".filter(F.col('ArrDelayCount') == 1)\\\n",
    ".groupBy('Year','UniqueCarrier','FlightNum')\\\n",
    ".count()\\\n",
    ".orderBy('count',ascending=True)\\\n",
    ".show(1)"
   ]
  },
  {
   "cell_type": "code",
   "execution_count": 22,
   "metadata": {
    "scrolled": true
   },
   "outputs": [
    {
     "name": "stdout",
     "output_type": "stream",
     "text": [
      "+----+-------------+---------+-----+\n",
      "|Year|UniqueCarrier|FlightNum|count|\n",
      "+----+-------------+---------+-----+\n",
      "|2001|           WN|     1575|  927|\n",
      "+----+-------------+---------+-----+\n",
      "only showing top 1 row\n",
      "\n"
     ]
    }
   ],
   "source": [
    "#Most Departure Delay Flight 2001\n",
    "airline_performance\\\n",
    ".filter(F.col('DepDelayCount') == 1)\\\n",
    ".groupBy('Year','UniqueCarrier','FlightNum')\\\n",
    ".count()\\\n",
    ".orderBy('count',ascending=False)\\\n",
    ".show(1)"
   ]
  },
  {
   "cell_type": "code",
   "execution_count": 23,
   "metadata": {},
   "outputs": [
    {
     "name": "stdout",
     "output_type": "stream",
     "text": [
      "+----+-------------+---------+-----+\n",
      "|Year|UniqueCarrier|FlightNum|count|\n",
      "+----+-------------+---------+-----+\n",
      "|2001|           US|     2110|    1|\n",
      "+----+-------------+---------+-----+\n",
      "only showing top 1 row\n",
      "\n"
     ]
    }
   ],
   "source": [
    "#Least Departure Delay Flight 2001\n",
    "airline_performance\\\n",
    ".filter(F.col('DepDelayCount') == 1)\\\n",
    ".groupBy('Year','UniqueCarrier','FlightNum')\\\n",
    ".count()\\\n",
    ".orderBy('count',ascending=True)\\\n",
    ".show(1)"
   ]
  },
  {
   "cell_type": "code",
   "execution_count": 24,
   "metadata": {},
   "outputs": [
    {
     "name": "stdout",
     "output_type": "stream",
     "text": [
      "+----+-------------+------------------+\n",
      "|Year|UniqueCarrier|     avg(ArrDelay)|\n",
      "+----+-------------+------------------+\n",
      "|2001|           CO|3.3232846269845395|\n",
      "|2001|           AA| 5.782605193751565|\n",
      "|2001|           HP| 8.324058042302017|\n",
      "|2001|           AQ| 4.888563890800643|\n",
      "|2001|           US| 3.513551631755064|\n",
      "|2001|           WN| 4.855821933876753|\n",
      "|2001|           TW|4.2484949608438285|\n",
      "|2001|           UA| 8.625530044317387|\n",
      "|2001|           MQ| 7.761099295787077|\n",
      "|2001|           AS| 11.71687910390112|\n",
      "|2001|           NW| 3.151802560581363|\n",
      "|2001|           DL| 4.984308254185548|\n",
      "+----+-------------+------------------+\n",
      "\n"
     ]
    }
   ],
   "source": [
    "airline_performance\\\n",
    ".groupBy('Year','UniqueCarrier')\\\n",
    ".agg(F.mean('ArrDelay'))\\\n",
    ".show()"
   ]
  },
  {
   "cell_type": "code",
   "execution_count": 25,
   "metadata": {
    "scrolled": true
   },
   "outputs": [
    {
     "name": "stdout",
     "output_type": "stream",
     "text": [
      "+----+-------------+------------------+\n",
      "|Year|UniqueCarrier|     avg(DepDelay)|\n",
      "+----+-------------+------------------+\n",
      "|2001|           CO| 5.541168762029567|\n",
      "|2001|           AA| 9.026835875605144|\n",
      "|2001|           HP| 9.858909626719058|\n",
      "|2001|           AQ| 4.199717065896882|\n",
      "|2001|           US| 5.881444755763281|\n",
      "|2001|           WN|  8.76108650459363|\n",
      "|2001|           TW| 6.013394762610158|\n",
      "|2001|           UA| 11.03689434786824|\n",
      "|2001|           MQ|10.448874098089139|\n",
      "|2001|           AS|10.971318930833478|\n",
      "|2001|           NW|5.7991100783433644|\n",
      "|2001|           DL| 7.500545855609975|\n",
      "+----+-------------+------------------+\n",
      "\n"
     ]
    },
    {
     "name": "stderr",
     "output_type": "stream",
     "text": [
      "----------------------------------------\n",
      "Exception happened during processing of request from ('127.0.0.1', 44804)\n",
      "Traceback (most recent call last):\n",
      "  File \"/usr/lib/python3.6/socketserver.py\", line 320, in _handle_request_noblock\n",
      "    self.process_request(request, client_address)\n",
      "  File \"/usr/lib/python3.6/socketserver.py\", line 351, in process_request\n",
      "    self.finish_request(request, client_address)\n",
      "  File \"/usr/lib/python3.6/socketserver.py\", line 364, in finish_request\n",
      "    self.RequestHandlerClass(request, client_address, self)\n",
      "  File \"/usr/lib/python3.6/socketserver.py\", line 724, in __init__\n",
      "    self.handle()\n",
      "  File \"/home/student/dev/spark/python/pyspark/accumulators.py\", line 268, in handle\n",
      "    poll(accum_updates)\n",
      "  File \"/home/student/dev/spark/python/pyspark/accumulators.py\", line 241, in poll\n",
      "    if func():\n",
      "  File \"/home/student/dev/spark/python/pyspark/accumulators.py\", line 245, in accum_updates\n",
      "    num_updates = read_int(self.rfile)\n",
      "  File \"/home/student/dev/spark/python/pyspark/serializers.py\", line 714, in read_int\n",
      "    raise EOFError\n",
      "EOFError\n",
      "----------------------------------------\n"
     ]
    }
   ],
   "source": [
    "airline_performance\\\n",
    ".groupBy('Year','UniqueCarrier')\\\n",
    ".agg(F.mean('DepDelay'))\\\n",
    ".show()"
   ]
  },
  {
   "cell_type": "code",
   "execution_count": null,
   "metadata": {},
   "outputs": [],
   "source": []
  }
 ],
 "metadata": {
  "kernelspec": {
   "display_name": "Python 3",
   "language": "python",
   "name": "python3"
  },
  "language_info": {
   "codemirror_mode": {
    "name": "ipython",
    "version": 3
   },
   "file_extension": ".py",
   "mimetype": "text/x-python",
   "name": "python",
   "nbconvert_exporter": "python",
   "pygments_lexer": "ipython3",
   "version": "3.6.9"
  }
 },
 "nbformat": 4,
 "nbformat_minor": 2
}
