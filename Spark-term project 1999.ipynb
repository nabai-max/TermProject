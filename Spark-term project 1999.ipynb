{
 "cells": [
  {
   "cell_type": "code",
   "execution_count": 2,
   "metadata": {},
   "outputs": [],
   "source": [
    "from pyspark import SparkContext, SparkConf, SQLContext\n",
    "from pyspark.sql import SparkSession, Row\n",
    "import pandas as pd\n"
   ]
  },
  {
   "cell_type": "code",
   "execution_count": 3,
   "metadata": {},
   "outputs": [],
   "source": [
    "spark = SparkSession.builder.appName(\"rdd-app\").config(\"spark.config.option\", \"value\").getOrCreate()\n",
    "scfg = SparkConf().setAppName('rdd-app')\n",
    "sc = spark.sparkContext"
   ]
  },
  {
   "cell_type": "code",
   "execution_count": 4,
   "metadata": {},
   "outputs": [],
   "source": [
    "import string\n",
    "\n",
    "text_file = '/user/student/shakespeare/tragedy/hamlet.txt'\n",
    "text = sc.textFile(text_file)"
   ]
  },
  {
   "cell_type": "code",
   "execution_count": 5,
   "metadata": {},
   "outputs": [],
   "source": [
    "def strip_punc(s):\n",
    "    return s.translate(str.maketrans('', '', string.punctuation)).split(' ')\n",
    "\n",
    "def search_word_in_line(word):\n",
    "    count = 1\n",
    "    for line in text.collect():\n",
    "        if word in strip_punc(line):\n",
    "            print('{}. {}'.format(count, line))\n",
    "        count += 1"
   ]
  },
  {
   "cell_type": "code",
   "execution_count": 6,
   "metadata": {},
   "outputs": [],
   "source": [
    "flatmap = text.flatMap(lambda line: line.translate(str.maketrans('', '', string.punctuation)).split(' '))\n",
    "map = flatmap.map(lambda word: (word, 1))\n",
    "reduced = map.reduceByKey(lambda a, b: a + b)"
   ]
  },
  {
   "cell_type": "code",
   "execution_count": 7,
   "metadata": {},
   "outputs": [],
   "source": [
    "counts = text.flatMap(lambda line: line.translate(str.maketrans('', '', string.punctuation)).split(' '))\\\n",
    "             .map(lambda word: (word, 1))\\\n",
    "             .reduceByKey(lambda a, b: a + b)    "
   ]
  },
  {
   "cell_type": "code",
   "execution_count": 8,
   "metadata": {},
   "outputs": [
    {
     "name": "stdout",
     "output_type": "stream",
     "text": [
      "Found 'purpose' occurs '11' times\n",
      "2599.     Why, any thing, but to the purpose. You were sent\n",
      "2926.     Black as his purpose, did the night resemble\n",
      "3216.     And drive his purpose on to these delights.\n",
      "3540.     from the purpose of playing, whose end, both at the\n",
      "3909.     The passion ending, doth the purpose lose.\n",
      "4766.     Is but to whet thy almost blunted purpose.\n",
      "6202.     And, for that purpose, I'll anoint my sword.\n",
      "6227.     Our purpose may hold there.\n",
      "6378.     purpose, confess thyself--\n",
      "7328.     king hold his purpose, I will win for him an I can;\n",
      "7376.     I am constant to my purpose; they follow the king's\n"
     ]
    }
   ],
   "source": [
    "word = \"purpose\"\n",
    "for count in reduced.collect():\n",
    "    # kv = str(count).translate(str.maketrans('', '', string.punctuation)).split(' ')\n",
    "    kv = strip_punc(str(count))\n",
    "    if word == kv[0]:\n",
    "        print('Found \\'{}\\' occurs \\'{}\\' times'.format(kv[0], kv[1])) \n",
    "        search_word_in_line(word)\n",
    "        break"
   ]
  },
  {
   "cell_type": "markdown",
   "metadata": {},
   "source": [
    "## Manipulating airline performance data"
   ]
  },
  {
   "cell_type": "code",
   "execution_count": 10,
   "metadata": {},
   "outputs": [],
   "source": [
    "\n",
    "from pyspark.sql.types import Row\n",
    "from datetime import datetime\n"
   ]
  },
  {
   "cell_type": "code",
   "execution_count": 11,
   "metadata": {},
   "outputs": [],
   "source": [
    "data_by_year = '/user/student/airline/1999.csv'\n",
    "airline_performance = spark.read.option(\"header\", \"true\").csv(data_by_year)"
   ]
  },
  {
   "cell_type": "code",
   "execution_count": 12,
   "metadata": {},
   "outputs": [
    {
     "data": {
      "text/plain": [
       "Row(Year='1999', Month='1', DayofMonth='27', DayOfWeek='3', DepTime='1906', CRSDepTime='1908', ArrTime='2024', CRSArrTime='2005', UniqueCarrier='US', FlightNum='1244', TailNum='N942VJ', ActualElapsedTime='78', CRSElapsedTime='57', AirTime='66', ArrDelay='19', DepDelay='-2', Origin='RIC', Dest='PHL', Distance='198', TaxiIn='3', TaxiOut='9', Cancelled='0', CancellationCode='NA', Diverted='0', CarrierDelay='NA', WeatherDelay='NA', NASDelay='NA', SecurityDelay='NA', LateAircraftDelay='NA')"
      ]
     },
     "execution_count": 12,
     "metadata": {},
     "output_type": "execute_result"
    }
   ],
   "source": [
    "airline_performance.head()"
   ]
  },
  {
   "cell_type": "code",
   "execution_count": 13,
   "metadata": {},
   "outputs": [
    {
     "data": {
      "text/plain": [
       "DataFrame[Year: string, Month: string, DayofMonth: string, DayOfWeek: string, DepTime: string, CRSDepTime: string, ArrTime: string, CRSArrTime: string, UniqueCarrier: string, FlightNum: string, TailNum: string, ActualElapsedTime: string, CRSElapsedTime: string, AirTime: string, ArrDelay: string, DepDelay: string, Origin: string, Dest: string, Distance: string, TaxiIn: string, TaxiOut: string, Cancelled: string, CancellationCode: string, Diverted: string, CarrierDelay: string, WeatherDelay: string, NASDelay: string, SecurityDelay: string, LateAircraftDelay: string]"
      ]
     },
     "execution_count": 13,
     "metadata": {},
     "output_type": "execute_result"
    }
   ],
   "source": [
    "airline_performance"
   ]
  },
  {
   "cell_type": "code",
   "execution_count": 14,
   "metadata": {},
   "outputs": [],
   "source": [
    "from pyspark.sql.types import IntegerType\n",
    "airline_performance = airline_performance.withColumn(\"ArrDelay\", airline_performance[\"ArrDelay\"].cast(IntegerType()))\n",
    "airline_performance = airline_performance.withColumn(\"DepDelay\", airline_performance[\"DepDelay\"].cast(IntegerType()))"
   ]
  },
  {
   "cell_type": "code",
   "execution_count": 15,
   "metadata": {},
   "outputs": [
    {
     "name": "stdout",
     "output_type": "stream",
     "text": [
      "+-------+-----------------+\n",
      "|summary|         ArrDelay|\n",
      "+-------+-----------------+\n",
      "|  count|          5360018|\n",
      "|   mean|8.246601037533829|\n",
      "| stddev|33.00760545179995|\n",
      "|    min|             -194|\n",
      "|    max|             1724|\n",
      "+-------+-----------------+\n",
      "\n",
      "+-------+------------------+\n",
      "|summary|          DepDelay|\n",
      "+-------+------------------+\n",
      "|  count|           5373573|\n",
      "|   mean|  9.33710084519183|\n",
      "| stddev|32.268675934546486|\n",
      "|    min|               -85|\n",
      "|    max|              1740|\n",
      "+-------+------------------+\n",
      "\n"
     ]
    }
   ],
   "source": [
    "airline_performance.describe(['ArrDelay']).show()\n",
    "airline_performance.describe(['DepDelay']).show()"
   ]
  },
  {
   "cell_type": "code",
   "execution_count": 16,
   "metadata": {
    "scrolled": true
   },
   "outputs": [
    {
     "name": "stdout",
     "output_type": "stream",
     "text": [
      "+----+------------------------------------------+\n",
      "|Dest|CASE WHEN (ArrDelay > 0) THEN 1 ELSE 0 END|\n",
      "+----+------------------------------------------+\n",
      "| PHL|                                         1|\n",
      "| PHL|                                         1|\n",
      "| PHL|                                         0|\n",
      "| PHL|                                         1|\n",
      "| PHL|                                         1|\n",
      "| PHL|                                         1|\n",
      "| PHL|                                         0|\n",
      "| PHL|                                         1|\n",
      "| PHL|                                         1|\n",
      "| PHL|                                         1|\n",
      "| PHL|                                         1|\n",
      "| PHL|                                         0|\n",
      "| PHL|                                         0|\n",
      "| PHL|                                         0|\n",
      "| PHL|                                         1|\n",
      "| PHL|                                         0|\n",
      "| PHL|                                         1|\n",
      "| PHL|                                         0|\n",
      "| PHL|                                         1|\n",
      "| PHL|                                         1|\n",
      "+----+------------------------------------------+\n",
      "only showing top 20 rows\n",
      "\n"
     ]
    }
   ],
   "source": [
    "import pyspark.sql.functions as F\n",
    "airline_performance.select(airline_performance.Dest,F.when(airline_performance.ArrDelay > 0, 1).otherwise(0)).show()"
   ]
  },
  {
   "cell_type": "code",
   "execution_count": 17,
   "metadata": {},
   "outputs": [
    {
     "name": "stdout",
     "output_type": "stream",
     "text": [
      "+----+-----+----------+---------+-------+----------+-------+----------+-------------+---------+-------+-----------------+--------------+-------+--------+--------+------+----+--------+------+-------+---------+----------------+--------+------------+------------+--------+-------------+-----------------+-------------+-------------+\n",
      "|Year|Month|DayofMonth|DayOfWeek|DepTime|CRSDepTime|ArrTime|CRSArrTime|UniqueCarrier|FlightNum|TailNum|ActualElapsedTime|CRSElapsedTime|AirTime|ArrDelay|DepDelay|Origin|Dest|Distance|TaxiIn|TaxiOut|Cancelled|CancellationCode|Diverted|CarrierDelay|WeatherDelay|NASDelay|SecurityDelay|LateAircraftDelay|ArrDelayCount|DepDelayCount|\n",
      "+----+-----+----------+---------+-------+----------+-------+----------+-------------+---------+-------+-----------------+--------------+-------+--------+--------+------+----+--------+------+-------+---------+----------------+--------+------------+------------+--------+-------------+-----------------+-------------+-------------+\n",
      "|1999|    1|        27|        3|   1906|      1908|   2024|      2005|           US|     1244| N942VJ|               78|            57|     66|      19|      -2|   RIC| PHL|     198|     3|      9|        0|              NA|       0|          NA|          NA|      NA|           NA|               NA|            1|            0|\n",
      "|1999|    1|        28|        4|   2016|      1908|   2126|      2005|           US|     1244| N955VJ|               70|            57|     41|      81|      68|   RIC| PHL|     198|    19|     10|        0|              NA|       0|          NA|          NA|      NA|           NA|               NA|            1|            1|\n",
      "+----+-----+----------+---------+-------+----------+-------+----------+-------------+---------+-------+-----------------+--------------+-------+--------+--------+------+----+--------+------+-------+---------+----------------+--------+------------+------------+--------+-------------+-----------------+-------------+-------------+\n",
      "only showing top 2 rows\n",
      "\n"
     ]
    }
   ],
   "source": [
    "airline_performance = airline_performance.withColumn('ArrDelayCount',F.when(airline_performance.ArrDelay > 0, 1).otherwise(0))\n",
    "airline_performance = airline_performance.withColumn('DepDelayCount',F.when(airline_performance.DepDelay > 0, 1).otherwise(0))\n",
    "airline_performance.show(2)"
   ]
  },
  {
   "cell_type": "code",
   "execution_count": 29,
   "metadata": {},
   "outputs": [
    {
     "name": "stdout",
     "output_type": "stream",
     "text": [
      "+----+------+------+\n",
      "|Year|Origin| count|\n",
      "+----+------+------+\n",
      "|1999|   ATL|144118|\n",
      "+----+------+------+\n",
      "only showing top 1 row\n",
      "\n"
     ]
    }
   ],
   "source": [
    "#Most Depature Delay Airport 1999\n",
    "airline_performance\\\n",
    ".filter(F.col('DepDelayCount') == 1)\\\n",
    ".groupBy('Year','Origin')\\\n",
    ".count()\\\n",
    ".orderBy('count',ascending=False)\\\n",
    ".show(1)"
   ]
  },
  {
   "cell_type": "code",
   "execution_count": 30,
   "metadata": {},
   "outputs": [
    {
     "name": "stdout",
     "output_type": "stream",
     "text": [
      "+----+------+-----+\n",
      "|Year|Origin|count|\n",
      "+----+------+-----+\n",
      "|1999|   LFT|    1|\n",
      "+----+------+-----+\n",
      "only showing top 1 row\n",
      "\n"
     ]
    }
   ],
   "source": [
    "#Least Depature Delay Airport 1999\n",
    "airline_performance\\\n",
    ".filter(F.col('DepDelayCount') == 1)\\\n",
    ".groupBy('Year','Origin')\\\n",
    ".count()\\\n",
    ".orderBy('count',ascending=True)\\\n",
    ".show(1)"
   ]
  },
  {
   "cell_type": "code",
   "execution_count": 20,
   "metadata": {
    "scrolled": true
   },
   "outputs": [
    {
     "name": "stdout",
     "output_type": "stream",
     "text": [
      "+----+----+------+\n",
      "|Year|Dest| count|\n",
      "+----+----+------+\n",
      "|1999| ORD|143605|\n",
      "+----+----+------+\n",
      "only showing top 1 row\n",
      "\n"
     ]
    }
   ],
   "source": [
    "#Most Arrival Delay Airport 1999\n",
    "airline_performance\\\n",
    ".filter(F.col('ArrDelayCount') == 1)\\\n",
    ".groupBy('Year','Dest')\\\n",
    ".count()\\\n",
    ".orderBy('count',ascending=False)\\\n",
    ".show(1)"
   ]
  },
  {
   "cell_type": "code",
   "execution_count": 21,
   "metadata": {},
   "outputs": [
    {
     "name": "stdout",
     "output_type": "stream",
     "text": [
      "+----+----+-----+\n",
      "|Year|Dest|count|\n",
      "+----+----+-----+\n",
      "|1999| LFT|    2|\n",
      "+----+----+-----+\n",
      "only showing top 1 row\n",
      "\n"
     ]
    }
   ],
   "source": [
    "#least Arrival Delay Airport 1999\n",
    "airline_performance\\\n",
    ".filter(F.col('ArrDelayCount') == 1)\\\n",
    ".groupBy('Year','Dest')\\\n",
    ".count()\\\n",
    ".orderBy('count',ascending=True)\\\n",
    ".show(1)"
   ]
  },
  {
   "cell_type": "code",
   "execution_count": 32,
   "metadata": {},
   "outputs": [
    {
     "name": "stdout",
     "output_type": "stream",
     "text": [
      "+----+-------------+---------+-----+\n",
      "|Year|UniqueCarrier|FlightNum|count|\n",
      "+----+-------------+---------+-----+\n",
      "|1999|           WN|      198| 1163|\n",
      "+----+-------------+---------+-----+\n",
      "only showing top 1 row\n",
      "\n"
     ]
    }
   ],
   "source": [
    "#Most Arrival Delay Flight 1999\n",
    "airline_performance\\\n",
    ".filter(F.col('ArrDelayCount') == 1)\\\n",
    ".groupBy('Year','UniqueCarrier','FlightNum')\\\n",
    ".count()\\\n",
    ".orderBy('count',ascending=False)\\\n",
    ".show(1)"
   ]
  },
  {
   "cell_type": "code",
   "execution_count": 26,
   "metadata": {},
   "outputs": [
    {
     "name": "stdout",
     "output_type": "stream",
     "text": [
      "+----+-------------+---------+-----+\n",
      "|Year|UniqueCarrier|FlightNum|count|\n",
      "+----+-------------+---------+-----+\n",
      "|1999|           WN|     1861|    1|\n",
      "+----+-------------+---------+-----+\n",
      "only showing top 1 row\n",
      "\n"
     ]
    }
   ],
   "source": [
    "#Least Arrival Delay Flight 1999\n",
    "airline_performance\\\n",
    ".filter(F.col('ArrDelayCount') == 1)\\\n",
    ".groupBy('Year','UniqueCarrier','FlightNum')\\\n",
    ".count()\\\n",
    ".orderBy('count',ascending=True)\\\n",
    ".show(1)"
   ]
  },
  {
   "cell_type": "code",
   "execution_count": 27,
   "metadata": {
    "scrolled": true
   },
   "outputs": [
    {
     "name": "stdout",
     "output_type": "stream",
     "text": [
      "+----+-------------+---------+-----+\n",
      "|Year|UniqueCarrier|FlightNum|count|\n",
      "+----+-------------+---------+-----+\n",
      "|1999|           WN|     1702| 1116|\n",
      "+----+-------------+---------+-----+\n",
      "only showing top 1 row\n",
      "\n"
     ]
    }
   ],
   "source": [
    "#Most Departure Delay Flight 1999\n",
    "airline_performance\\\n",
    ".filter(F.col('DepDelayCount') == 1)\\\n",
    ".groupBy('Year','UniqueCarrier','FlightNum')\\\n",
    ".count()\\\n",
    ".orderBy('count',ascending=False)\\\n",
    ".show(1)"
   ]
  },
  {
   "cell_type": "code",
   "execution_count": 28,
   "metadata": {},
   "outputs": [
    {
     "name": "stdout",
     "output_type": "stream",
     "text": [
      "+----+-------------+---------+-----+\n",
      "|Year|UniqueCarrier|FlightNum|count|\n",
      "+----+-------------+---------+-----+\n",
      "|1999|           WN|     1866|    1|\n",
      "+----+-------------+---------+-----+\n",
      "only showing top 1 row\n",
      "\n"
     ]
    }
   ],
   "source": [
    "#Least Departure Delay Flight 1999\n",
    "airline_performance\\\n",
    ".filter(F.col('DepDelayCount') == 1)\\\n",
    ".groupBy('Year','UniqueCarrier','FlightNum')\\\n",
    ".count()\\\n",
    ".orderBy('count',ascending=True)\\\n",
    ".show(1)"
   ]
  },
  {
   "cell_type": "code",
   "execution_count": 38,
   "metadata": {},
   "outputs": [
    {
     "name": "stdout",
     "output_type": "stream",
     "text": [
      "+----+-------------+------------------+\n",
      "|Year|UniqueCarrier|     avg(ArrDelay)|\n",
      "+----+-------------+------------------+\n",
      "|1999|           WN|7.4698429124716865|\n",
      "|1999|           NW| 4.389880451576387|\n",
      "|1999|           UA| 9.882414898898416|\n",
      "|1999|           TW| 6.008880764633835|\n",
      "|1999|           US|10.441609242053934|\n",
      "|1999|           DL| 6.678932548316908|\n",
      "|1999|           HP|13.208234475185789|\n",
      "|1999|           CO| 8.480354162613779|\n",
      "|1999|           AS|11.003722522258553|\n",
      "|1999|           AA| 8.918916508042582|\n",
      "+----+-------------+------------------+\n",
      "\n"
     ]
    }
   ],
   "source": [
    "airline_performance\\\n",
    ".groupBy('Year','UniqueCarrier')\\\n",
    ".agg(F.mean('ArrDelay'))\\\n",
    ".show()"
   ]
  },
  {
   "cell_type": "code",
   "execution_count": 39,
   "metadata": {},
   "outputs": [
    {
     "name": "stdout",
     "output_type": "stream",
     "text": [
      "+----+-------------+------------------+\n",
      "|Year|UniqueCarrier|     avg(DepDelay)|\n",
      "+----+-------------+------------------+\n",
      "|1999|           WN|10.093180644314879|\n",
      "|1999|           NW| 6.718094058226521|\n",
      "|1999|           UA| 9.899378991741754|\n",
      "|1999|           TW|  8.20298647446099|\n",
      "|1999|           US|10.408952370620462|\n",
      "|1999|           DL| 8.062052674456261|\n",
      "|1999|           HP|12.003973885892705|\n",
      "|1999|           CO| 9.118107321556213|\n",
      "|1999|           AS|10.887364496397627|\n",
      "|1999|           AA|  9.84248138823221|\n",
      "+----+-------------+------------------+\n",
      "\n"
     ]
    }
   ],
   "source": [
    "airline_performance\\\n",
    ".groupBy('Year','UniqueCarrier')\\\n",
    ".agg(F.mean('DepDelay'))\\\n",
    ".show()"
   ]
  },
  {
   "cell_type": "code",
   "execution_count": null,
   "metadata": {},
   "outputs": [],
   "source": []
  }
 ],
 "metadata": {
  "kernelspec": {
   "display_name": "Python 3",
   "language": "python",
   "name": "python3"
  },
  "language_info": {
   "codemirror_mode": {
    "name": "ipython",
    "version": 3
   },
   "file_extension": ".py",
   "mimetype": "text/x-python",
   "name": "python",
   "nbconvert_exporter": "python",
   "pygments_lexer": "ipython3",
   "version": "3.6.9"
  }
 },
 "nbformat": 4,
 "nbformat_minor": 2
}
